{
 "cells": [
  {
   "cell_type": "markdown",
   "metadata": {},
   "source": [
    "This Jupyter Notebook is a basic guide to exploratory data analysis using Python Language, SQL Language and SQLite Database, provided by the \"Python Fundamentals of Data Analysis 3.0\" course offered by the Data Science Academy. Actual publicly available data, movie data on IMDB will be used.\n",
    "By applying Exploratory Data Analysis it will be possible to answer these 10 questions:\n",
    "\n",
    "1- What are the Most Common Movie Categories on IMDB?\n",
    "2- What is the number of titles by genre?\n",
    "3- What is the Median Rating of Films by Genre?\n",
    "4- What is the Median Evaluation of Films Regarding the Year of Premiere?\n",
    "5- What is the number of films evaluated by genre in relation to the year of debut?\n",
    "6- What is the longest running movie? Calculate the percentiles.\n",
    "7- What is the relationship between duration and genre?\n",
    "8- What is the number of films produced per country?\n",
    "9- What are the Top 10 Best Movies?\n",
    "10- What are the Top 10 Worst Movies?"
   ]
  },
  {
   "cell_type": "code",
   "execution_count": 1,
   "metadata": {},
   "outputs": [
    {
     "name": "stdout",
     "output_type": "stream",
     "text": [
      "Versão da linguagem python usada neste jupyter notebook 3.9.7\n"
     ]
    }
   ],
   "source": [
    "from platform import python_version\n",
    "print('Versão da linguagem python usada neste jupyter notebook', python_version()) "
   ]
  },
  {
   "cell_type": "code",
   "execution_count": 2,
   "metadata": {},
   "outputs": [
    {
     "name": "stdout",
     "output_type": "stream",
     "text": [
      "Requirement already satisfied: imdb-sqlite in c:\\users\\bruno\\anaconda3\\lib\\site-packages (0.1.3)\n",
      "Requirement already satisfied: tqdm>=4.4.1 in c:\\users\\bruno\\anaconda3\\lib\\site-packages (from imdb-sqlite) (4.62.3)\n",
      "Requirement already satisfied: colorama in c:\\users\\bruno\\anaconda3\\lib\\site-packages (from tqdm>=4.4.1->imdb-sqlite) (0.4.4)\n"
     ]
    }
   ],
   "source": [
    "#instalando o pacote destinado a trazer de forma organizada os dados contidos na plataforma IMDB\n",
    "!pip install imdb-sqlite"
   ]
  },
  {
   "cell_type": "code",
   "execution_count": 3,
   "metadata": {},
   "outputs": [
    {
     "name": "stdout",
     "output_type": "stream",
     "text": [
      "Requirement already satisfied: pycountry in c:\\users\\bruno\\anaconda3\\lib\\site-packages (22.1.10)\n",
      "Requirement already satisfied: setuptools in c:\\users\\bruno\\anaconda3\\lib\\site-packages (from pycountry) (58.0.4)\n"
     ]
    }
   ],
   "source": [
    "#instalando o pacote que decodifica o padrão ISO as siglas nos nomes dos países\n",
    "!pip install pycountry "
   ]
  },
  {
   "cell_type": "code",
   "execution_count": 4,
   "metadata": {},
   "outputs": [],
   "source": [
    "#Importando pacotes necessários para as análises, visualizaçoes e outros.\n",
    "\n",
    "#expressão regulares\n",
    "import re \n",
    "#medir tempo de execução ou manipular datas\n",
    "import time \n",
    "#trbalhar com o banco de dados SQLite\n",
    "import sqlite3 \n",
    "#decodificar nom de países\n",
    "import pycountry \n",
    "#manipulação de dados\n",
    "import numpy as np \n",
    "#manipulação de dados\n",
    "import pandas as pd \n",
    "#vizualização de dados\n",
    "import matplotlib.pyplot as plt\n",
    "#vizualização de dados\n",
    "import seaborn as sns \n",
    "#vizualização de dados\n",
    "from matplotlib import cm \n",
    "#machine learning\n",
    "from sklearn.feature_extraction.text import CountVectorizer \n",
    "#filtrar warnings\n",
    "import warnings \n",
    "warnings.filterwarnings(\"ignore\") \n",
    "#define um padrão de fundo branco para os gráficos\n",
    "sns.set_theme(style = \"whitegrid\") "
   ]
  },
  {
   "cell_type": "markdown",
   "metadata": {},
   "source": [
    "Carregando os dados"
   ]
  },
  {
   "cell_type": "code",
   "execution_count": 5,
   "metadata": {},
   "outputs": [
    {
     "name": "stdout",
     "output_type": "stream",
     "text": [
      "Wall time: 571 ms\n"
     ]
    },
    {
     "name": "stderr",
     "output_type": "stream",
     "text": [
      "2022-06-09 15:20:06,311 DB already exists: (imdb.db). Refusing to modify. Exiting\n"
     ]
    }
   ],
   "source": [
    "%%time\n",
    "#download dos arquivos com os dados e criar um banco de dados\n",
    "!imdb-sqlite "
   ]
  },
  {
   "cell_type": "code",
   "execution_count": 6,
   "metadata": {},
   "outputs": [],
   "source": [
    "#conectar ao banco de dados criado através do pacote imdb \n",
    "conn = sqlite3.connect(\"imdb.db\")"
   ]
  },
  {
   "cell_type": "code",
   "execution_count": 7,
   "metadata": {},
   "outputs": [],
   "source": [
    "#extrair a lista de tabelas que estão no banco\n",
    "tabelas = pd.read_sql_query(\"SELECT name AS 'Table_Name' FROM sqlite_master WHERE type = 'table'\",conn)"
   ]
  },
  {
   "cell_type": "code",
   "execution_count": 8,
   "metadata": {},
   "outputs": [
    {
     "data": {
      "text/plain": [
       "pandas.core.frame.DataFrame"
      ]
     },
     "execution_count": 8,
     "metadata": {},
     "output_type": "execute_result"
    }
   ],
   "source": [
    "#verificar o tipo do objeto\n",
    "type(tabelas)"
   ]
  },
  {
   "cell_type": "code",
   "execution_count": 9,
   "metadata": {},
   "outputs": [
    {
     "data": {
      "text/html": [
       "<div>\n",
       "<style scoped>\n",
       "    .dataframe tbody tr th:only-of-type {\n",
       "        vertical-align: middle;\n",
       "    }\n",
       "\n",
       "    .dataframe tbody tr th {\n",
       "        vertical-align: top;\n",
       "    }\n",
       "\n",
       "    .dataframe thead th {\n",
       "        text-align: right;\n",
       "    }\n",
       "</style>\n",
       "<table border=\"1\" class=\"dataframe\">\n",
       "  <thead>\n",
       "    <tr style=\"text-align: right;\">\n",
       "      <th></th>\n",
       "      <th>Table_Name</th>\n",
       "    </tr>\n",
       "  </thead>\n",
       "  <tbody>\n",
       "    <tr>\n",
       "      <th>0</th>\n",
       "      <td>people</td>\n",
       "    </tr>\n",
       "    <tr>\n",
       "      <th>1</th>\n",
       "      <td>titles</td>\n",
       "    </tr>\n",
       "    <tr>\n",
       "      <th>2</th>\n",
       "      <td>akas</td>\n",
       "    </tr>\n",
       "    <tr>\n",
       "      <th>3</th>\n",
       "      <td>crew</td>\n",
       "    </tr>\n",
       "    <tr>\n",
       "      <th>4</th>\n",
       "      <td>episodes</td>\n",
       "    </tr>\n",
       "  </tbody>\n",
       "</table>\n",
       "</div>"
      ],
      "text/plain": [
       "  Table_Name\n",
       "0     people\n",
       "1     titles\n",
       "2       akas\n",
       "3       crew\n",
       "4   episodes"
      ]
     },
     "execution_count": 9,
     "metadata": {},
     "output_type": "execute_result"
    }
   ],
   "source": [
    "#vizualizar os resultados\n",
    "tabelas.head()"
   ]
  },
  {
   "cell_type": "code",
   "execution_count": 10,
   "metadata": {},
   "outputs": [
    {
     "data": {
      "text/plain": [
       "['people', 'titles', 'akas', 'crew', 'episodes', 'ratings']"
      ]
     },
     "execution_count": 10,
     "metadata": {},
     "output_type": "execute_result"
    }
   ],
   "source": [
    "#convertendo a tabela de nomes e uma lista para facilitar a vizualição\n",
    "tabelas = tabelas[\"Table_Name\"].values.tolist()\n",
    "\n",
    "tabelas"
   ]
  },
  {
   "cell_type": "code",
   "execution_count": 11,
   "metadata": {},
   "outputs": [
    {
     "name": "stdout",
     "output_type": "stream",
     "text": [
      "Esquema da tabela:  people\n"
     ]
    },
    {
     "data": {
      "text/html": [
       "<div>\n",
       "<style scoped>\n",
       "    .dataframe tbody tr th:only-of-type {\n",
       "        vertical-align: middle;\n",
       "    }\n",
       "\n",
       "    .dataframe tbody tr th {\n",
       "        vertical-align: top;\n",
       "    }\n",
       "\n",
       "    .dataframe thead th {\n",
       "        text-align: right;\n",
       "    }\n",
       "</style>\n",
       "<table border=\"1\" class=\"dataframe\">\n",
       "  <thead>\n",
       "    <tr style=\"text-align: right;\">\n",
       "      <th></th>\n",
       "      <th>cid</th>\n",
       "      <th>name</th>\n",
       "      <th>type</th>\n",
       "      <th>notnull</th>\n",
       "      <th>dflt_value</th>\n",
       "      <th>pk</th>\n",
       "    </tr>\n",
       "  </thead>\n",
       "  <tbody>\n",
       "    <tr>\n",
       "      <th>0</th>\n",
       "      <td>0</td>\n",
       "      <td>person_id</td>\n",
       "      <td>VARCHAR</td>\n",
       "      <td>0</td>\n",
       "      <td>None</td>\n",
       "      <td>1</td>\n",
       "    </tr>\n",
       "    <tr>\n",
       "      <th>1</th>\n",
       "      <td>1</td>\n",
       "      <td>name</td>\n",
       "      <td>VARCHAR</td>\n",
       "      <td>0</td>\n",
       "      <td>None</td>\n",
       "      <td>0</td>\n",
       "    </tr>\n",
       "    <tr>\n",
       "      <th>2</th>\n",
       "      <td>2</td>\n",
       "      <td>born</td>\n",
       "      <td>INTEGER</td>\n",
       "      <td>0</td>\n",
       "      <td>None</td>\n",
       "      <td>0</td>\n",
       "    </tr>\n",
       "    <tr>\n",
       "      <th>3</th>\n",
       "      <td>3</td>\n",
       "      <td>died</td>\n",
       "      <td>INTEGER</td>\n",
       "      <td>0</td>\n",
       "      <td>None</td>\n",
       "      <td>0</td>\n",
       "    </tr>\n",
       "  </tbody>\n",
       "</table>\n",
       "</div>"
      ],
      "text/plain": [
       "   cid       name     type  notnull dflt_value  pk\n",
       "0    0  person_id  VARCHAR        0       None   1\n",
       "1    1       name  VARCHAR        0       None   0\n",
       "2    2       born  INTEGER        0       None   0\n",
       "3    3       died  INTEGER        0       None   0"
      ]
     },
     "metadata": {},
     "output_type": "display_data"
    },
    {
     "name": "stdout",
     "output_type": "stream",
     "text": [
      "----------------------------------------------------------------------------------------------------\n",
      "\n",
      "\n",
      "Esquema da tabela:  titles\n"
     ]
    },
    {
     "data": {
      "text/html": [
       "<div>\n",
       "<style scoped>\n",
       "    .dataframe tbody tr th:only-of-type {\n",
       "        vertical-align: middle;\n",
       "    }\n",
       "\n",
       "    .dataframe tbody tr th {\n",
       "        vertical-align: top;\n",
       "    }\n",
       "\n",
       "    .dataframe thead th {\n",
       "        text-align: right;\n",
       "    }\n",
       "</style>\n",
       "<table border=\"1\" class=\"dataframe\">\n",
       "  <thead>\n",
       "    <tr style=\"text-align: right;\">\n",
       "      <th></th>\n",
       "      <th>cid</th>\n",
       "      <th>name</th>\n",
       "      <th>type</th>\n",
       "      <th>notnull</th>\n",
       "      <th>dflt_value</th>\n",
       "      <th>pk</th>\n",
       "    </tr>\n",
       "  </thead>\n",
       "  <tbody>\n",
       "    <tr>\n",
       "      <th>0</th>\n",
       "      <td>0</td>\n",
       "      <td>title_id</td>\n",
       "      <td>VARCHAR</td>\n",
       "      <td>0</td>\n",
       "      <td>None</td>\n",
       "      <td>1</td>\n",
       "    </tr>\n",
       "    <tr>\n",
       "      <th>1</th>\n",
       "      <td>1</td>\n",
       "      <td>type</td>\n",
       "      <td>VARCHAR</td>\n",
       "      <td>0</td>\n",
       "      <td>None</td>\n",
       "      <td>0</td>\n",
       "    </tr>\n",
       "    <tr>\n",
       "      <th>2</th>\n",
       "      <td>2</td>\n",
       "      <td>primary_title</td>\n",
       "      <td>VARCHAR</td>\n",
       "      <td>0</td>\n",
       "      <td>None</td>\n",
       "      <td>0</td>\n",
       "    </tr>\n",
       "    <tr>\n",
       "      <th>3</th>\n",
       "      <td>3</td>\n",
       "      <td>original_title</td>\n",
       "      <td>VARCHAR</td>\n",
       "      <td>0</td>\n",
       "      <td>None</td>\n",
       "      <td>0</td>\n",
       "    </tr>\n",
       "    <tr>\n",
       "      <th>4</th>\n",
       "      <td>4</td>\n",
       "      <td>is_adult</td>\n",
       "      <td>INTEGER</td>\n",
       "      <td>0</td>\n",
       "      <td>None</td>\n",
       "      <td>0</td>\n",
       "    </tr>\n",
       "    <tr>\n",
       "      <th>5</th>\n",
       "      <td>5</td>\n",
       "      <td>premiered</td>\n",
       "      <td>INTEGER</td>\n",
       "      <td>0</td>\n",
       "      <td>None</td>\n",
       "      <td>0</td>\n",
       "    </tr>\n",
       "    <tr>\n",
       "      <th>6</th>\n",
       "      <td>6</td>\n",
       "      <td>ended</td>\n",
       "      <td>INTEGER</td>\n",
       "      <td>0</td>\n",
       "      <td>None</td>\n",
       "      <td>0</td>\n",
       "    </tr>\n",
       "    <tr>\n",
       "      <th>7</th>\n",
       "      <td>7</td>\n",
       "      <td>runtime_minutes</td>\n",
       "      <td>INTEGER</td>\n",
       "      <td>0</td>\n",
       "      <td>None</td>\n",
       "      <td>0</td>\n",
       "    </tr>\n",
       "    <tr>\n",
       "      <th>8</th>\n",
       "      <td>8</td>\n",
       "      <td>genres</td>\n",
       "      <td>VARCHAR</td>\n",
       "      <td>0</td>\n",
       "      <td>None</td>\n",
       "      <td>0</td>\n",
       "    </tr>\n",
       "  </tbody>\n",
       "</table>\n",
       "</div>"
      ],
      "text/plain": [
       "   cid             name     type  notnull dflt_value  pk\n",
       "0    0         title_id  VARCHAR        0       None   1\n",
       "1    1             type  VARCHAR        0       None   0\n",
       "2    2    primary_title  VARCHAR        0       None   0\n",
       "3    3   original_title  VARCHAR        0       None   0\n",
       "4    4         is_adult  INTEGER        0       None   0\n",
       "5    5        premiered  INTEGER        0       None   0\n",
       "6    6            ended  INTEGER        0       None   0\n",
       "7    7  runtime_minutes  INTEGER        0       None   0\n",
       "8    8           genres  VARCHAR        0       None   0"
      ]
     },
     "metadata": {},
     "output_type": "display_data"
    },
    {
     "name": "stdout",
     "output_type": "stream",
     "text": [
      "----------------------------------------------------------------------------------------------------\n",
      "\n",
      "\n",
      "Esquema da tabela:  akas\n"
     ]
    },
    {
     "data": {
      "text/html": [
       "<div>\n",
       "<style scoped>\n",
       "    .dataframe tbody tr th:only-of-type {\n",
       "        vertical-align: middle;\n",
       "    }\n",
       "\n",
       "    .dataframe tbody tr th {\n",
       "        vertical-align: top;\n",
       "    }\n",
       "\n",
       "    .dataframe thead th {\n",
       "        text-align: right;\n",
       "    }\n",
       "</style>\n",
       "<table border=\"1\" class=\"dataframe\">\n",
       "  <thead>\n",
       "    <tr style=\"text-align: right;\">\n",
       "      <th></th>\n",
       "      <th>cid</th>\n",
       "      <th>name</th>\n",
       "      <th>type</th>\n",
       "      <th>notnull</th>\n",
       "      <th>dflt_value</th>\n",
       "      <th>pk</th>\n",
       "    </tr>\n",
       "  </thead>\n",
       "  <tbody>\n",
       "    <tr>\n",
       "      <th>0</th>\n",
       "      <td>0</td>\n",
       "      <td>title_id</td>\n",
       "      <td>VARCHAR</td>\n",
       "      <td>0</td>\n",
       "      <td>None</td>\n",
       "      <td>0</td>\n",
       "    </tr>\n",
       "    <tr>\n",
       "      <th>1</th>\n",
       "      <td>1</td>\n",
       "      <td>title</td>\n",
       "      <td>VARCHAR</td>\n",
       "      <td>0</td>\n",
       "      <td>None</td>\n",
       "      <td>0</td>\n",
       "    </tr>\n",
       "    <tr>\n",
       "      <th>2</th>\n",
       "      <td>2</td>\n",
       "      <td>region</td>\n",
       "      <td>VARCHAR</td>\n",
       "      <td>0</td>\n",
       "      <td>None</td>\n",
       "      <td>0</td>\n",
       "    </tr>\n",
       "    <tr>\n",
       "      <th>3</th>\n",
       "      <td>3</td>\n",
       "      <td>language</td>\n",
       "      <td>VARCHAR</td>\n",
       "      <td>0</td>\n",
       "      <td>None</td>\n",
       "      <td>0</td>\n",
       "    </tr>\n",
       "    <tr>\n",
       "      <th>4</th>\n",
       "      <td>4</td>\n",
       "      <td>types</td>\n",
       "      <td>VARCHAR</td>\n",
       "      <td>0</td>\n",
       "      <td>None</td>\n",
       "      <td>0</td>\n",
       "    </tr>\n",
       "    <tr>\n",
       "      <th>5</th>\n",
       "      <td>5</td>\n",
       "      <td>attributes</td>\n",
       "      <td>VARCHAR</td>\n",
       "      <td>0</td>\n",
       "      <td>None</td>\n",
       "      <td>0</td>\n",
       "    </tr>\n",
       "    <tr>\n",
       "      <th>6</th>\n",
       "      <td>6</td>\n",
       "      <td>is_original_title</td>\n",
       "      <td>INTEGER</td>\n",
       "      <td>0</td>\n",
       "      <td>None</td>\n",
       "      <td>0</td>\n",
       "    </tr>\n",
       "  </tbody>\n",
       "</table>\n",
       "</div>"
      ],
      "text/plain": [
       "   cid               name     type  notnull dflt_value  pk\n",
       "0    0           title_id  VARCHAR        0       None   0\n",
       "1    1              title  VARCHAR        0       None   0\n",
       "2    2             region  VARCHAR        0       None   0\n",
       "3    3           language  VARCHAR        0       None   0\n",
       "4    4              types  VARCHAR        0       None   0\n",
       "5    5         attributes  VARCHAR        0       None   0\n",
       "6    6  is_original_title  INTEGER        0       None   0"
      ]
     },
     "metadata": {},
     "output_type": "display_data"
    },
    {
     "name": "stdout",
     "output_type": "stream",
     "text": [
      "----------------------------------------------------------------------------------------------------\n",
      "\n",
      "\n",
      "Esquema da tabela:  crew\n"
     ]
    },
    {
     "data": {
      "text/html": [
       "<div>\n",
       "<style scoped>\n",
       "    .dataframe tbody tr th:only-of-type {\n",
       "        vertical-align: middle;\n",
       "    }\n",
       "\n",
       "    .dataframe tbody tr th {\n",
       "        vertical-align: top;\n",
       "    }\n",
       "\n",
       "    .dataframe thead th {\n",
       "        text-align: right;\n",
       "    }\n",
       "</style>\n",
       "<table border=\"1\" class=\"dataframe\">\n",
       "  <thead>\n",
       "    <tr style=\"text-align: right;\">\n",
       "      <th></th>\n",
       "      <th>cid</th>\n",
       "      <th>name</th>\n",
       "      <th>type</th>\n",
       "      <th>notnull</th>\n",
       "      <th>dflt_value</th>\n",
       "      <th>pk</th>\n",
       "    </tr>\n",
       "  </thead>\n",
       "  <tbody>\n",
       "    <tr>\n",
       "      <th>0</th>\n",
       "      <td>0</td>\n",
       "      <td>title_id</td>\n",
       "      <td>VARCHAR</td>\n",
       "      <td>0</td>\n",
       "      <td>None</td>\n",
       "      <td>0</td>\n",
       "    </tr>\n",
       "    <tr>\n",
       "      <th>1</th>\n",
       "      <td>1</td>\n",
       "      <td>person_id</td>\n",
       "      <td>VARCHAR</td>\n",
       "      <td>0</td>\n",
       "      <td>None</td>\n",
       "      <td>0</td>\n",
       "    </tr>\n",
       "    <tr>\n",
       "      <th>2</th>\n",
       "      <td>2</td>\n",
       "      <td>category</td>\n",
       "      <td>VARCHAR</td>\n",
       "      <td>0</td>\n",
       "      <td>None</td>\n",
       "      <td>0</td>\n",
       "    </tr>\n",
       "    <tr>\n",
       "      <th>3</th>\n",
       "      <td>3</td>\n",
       "      <td>job</td>\n",
       "      <td>VARCHAR</td>\n",
       "      <td>0</td>\n",
       "      <td>None</td>\n",
       "      <td>0</td>\n",
       "    </tr>\n",
       "    <tr>\n",
       "      <th>4</th>\n",
       "      <td>4</td>\n",
       "      <td>characters</td>\n",
       "      <td>VARCHAR</td>\n",
       "      <td>0</td>\n",
       "      <td>None</td>\n",
       "      <td>0</td>\n",
       "    </tr>\n",
       "  </tbody>\n",
       "</table>\n",
       "</div>"
      ],
      "text/plain": [
       "   cid        name     type  notnull dflt_value  pk\n",
       "0    0    title_id  VARCHAR        0       None   0\n",
       "1    1   person_id  VARCHAR        0       None   0\n",
       "2    2    category  VARCHAR        0       None   0\n",
       "3    3         job  VARCHAR        0       None   0\n",
       "4    4  characters  VARCHAR        0       None   0"
      ]
     },
     "metadata": {},
     "output_type": "display_data"
    },
    {
     "name": "stdout",
     "output_type": "stream",
     "text": [
      "----------------------------------------------------------------------------------------------------\n",
      "\n",
      "\n",
      "Esquema da tabela:  episodes\n"
     ]
    },
    {
     "data": {
      "text/html": [
       "<div>\n",
       "<style scoped>\n",
       "    .dataframe tbody tr th:only-of-type {\n",
       "        vertical-align: middle;\n",
       "    }\n",
       "\n",
       "    .dataframe tbody tr th {\n",
       "        vertical-align: top;\n",
       "    }\n",
       "\n",
       "    .dataframe thead th {\n",
       "        text-align: right;\n",
       "    }\n",
       "</style>\n",
       "<table border=\"1\" class=\"dataframe\">\n",
       "  <thead>\n",
       "    <tr style=\"text-align: right;\">\n",
       "      <th></th>\n",
       "      <th>cid</th>\n",
       "      <th>name</th>\n",
       "      <th>type</th>\n",
       "      <th>notnull</th>\n",
       "      <th>dflt_value</th>\n",
       "      <th>pk</th>\n",
       "    </tr>\n",
       "  </thead>\n",
       "  <tbody>\n",
       "    <tr>\n",
       "      <th>0</th>\n",
       "      <td>0</td>\n",
       "      <td>episode_title_id</td>\n",
       "      <td>INTEGER</td>\n",
       "      <td>0</td>\n",
       "      <td>None</td>\n",
       "      <td>0</td>\n",
       "    </tr>\n",
       "    <tr>\n",
       "      <th>1</th>\n",
       "      <td>1</td>\n",
       "      <td>show_title_id</td>\n",
       "      <td>INTEGER</td>\n",
       "      <td>0</td>\n",
       "      <td>None</td>\n",
       "      <td>0</td>\n",
       "    </tr>\n",
       "    <tr>\n",
       "      <th>2</th>\n",
       "      <td>2</td>\n",
       "      <td>season_number</td>\n",
       "      <td>INTEGER</td>\n",
       "      <td>0</td>\n",
       "      <td>None</td>\n",
       "      <td>0</td>\n",
       "    </tr>\n",
       "    <tr>\n",
       "      <th>3</th>\n",
       "      <td>3</td>\n",
       "      <td>eposide_number</td>\n",
       "      <td>INTEGER</td>\n",
       "      <td>0</td>\n",
       "      <td>None</td>\n",
       "      <td>0</td>\n",
       "    </tr>\n",
       "  </tbody>\n",
       "</table>\n",
       "</div>"
      ],
      "text/plain": [
       "   cid              name     type  notnull dflt_value  pk\n",
       "0    0  episode_title_id  INTEGER        0       None   0\n",
       "1    1     show_title_id  INTEGER        0       None   0\n",
       "2    2     season_number  INTEGER        0       None   0\n",
       "3    3    eposide_number  INTEGER        0       None   0"
      ]
     },
     "metadata": {},
     "output_type": "display_data"
    },
    {
     "name": "stdout",
     "output_type": "stream",
     "text": [
      "----------------------------------------------------------------------------------------------------\n",
      "\n",
      "\n",
      "Esquema da tabela:  ratings\n"
     ]
    },
    {
     "data": {
      "text/html": [
       "<div>\n",
       "<style scoped>\n",
       "    .dataframe tbody tr th:only-of-type {\n",
       "        vertical-align: middle;\n",
       "    }\n",
       "\n",
       "    .dataframe tbody tr th {\n",
       "        vertical-align: top;\n",
       "    }\n",
       "\n",
       "    .dataframe thead th {\n",
       "        text-align: right;\n",
       "    }\n",
       "</style>\n",
       "<table border=\"1\" class=\"dataframe\">\n",
       "  <thead>\n",
       "    <tr style=\"text-align: right;\">\n",
       "      <th></th>\n",
       "      <th>cid</th>\n",
       "      <th>name</th>\n",
       "      <th>type</th>\n",
       "      <th>notnull</th>\n",
       "      <th>dflt_value</th>\n",
       "      <th>pk</th>\n",
       "    </tr>\n",
       "  </thead>\n",
       "  <tbody>\n",
       "    <tr>\n",
       "      <th>0</th>\n",
       "      <td>0</td>\n",
       "      <td>title_id</td>\n",
       "      <td>VARCHAR</td>\n",
       "      <td>0</td>\n",
       "      <td>None</td>\n",
       "      <td>1</td>\n",
       "    </tr>\n",
       "    <tr>\n",
       "      <th>1</th>\n",
       "      <td>1</td>\n",
       "      <td>rating</td>\n",
       "      <td>INTEGER</td>\n",
       "      <td>0</td>\n",
       "      <td>None</td>\n",
       "      <td>0</td>\n",
       "    </tr>\n",
       "    <tr>\n",
       "      <th>2</th>\n",
       "      <td>2</td>\n",
       "      <td>votes</td>\n",
       "      <td>INTEGER</td>\n",
       "      <td>0</td>\n",
       "      <td>None</td>\n",
       "      <td>0</td>\n",
       "    </tr>\n",
       "  </tbody>\n",
       "</table>\n",
       "</div>"
      ],
      "text/plain": [
       "   cid      name     type  notnull dflt_value  pk\n",
       "0    0  title_id  VARCHAR        0       None   1\n",
       "1    1    rating  INTEGER        0       None   0\n",
       "2    2     votes  INTEGER        0       None   0"
      ]
     },
     "metadata": {},
     "output_type": "display_data"
    },
    {
     "name": "stdout",
     "output_type": "stream",
     "text": [
      "----------------------------------------------------------------------------------------------------\n",
      "\n",
      "\n"
     ]
    }
   ],
   "source": [
    "#extrair o schema de cada tabela para conhecer os tipos de dados  e como eles estão organizados\n",
    "\n",
    "for tabela in tabelas:\n",
    "    #\"PRAGMA TABLE_INFO({})\" usado no SQLite extrai as informações da tabela \n",
    "    consulta= \"PRAGMA TABLE_INFO({})\".format(tabela)\n",
    "    resultado = pd.read_sql_query(consulta, conn)\n",
    "    print(\"Esquema da tabela: \",tabela)\n",
    "    #display vizualiza o resultado\n",
    "    display(resultado)\n",
    "    print(\"-\"*100)\n",
    "    print(\"\\n\")\n",
    "    "
   ]
  },
  {
   "cell_type": "markdown",
   "metadata": {},
   "source": [
    "Análise exploratória dos dados"
   ]
  },
  {
   "cell_type": "markdown",
   "metadata": {},
   "source": [
    "1 - Quais são as categorias de títulos (filmes) mais comuns no IMDB?"
   ]
  },
  {
   "cell_type": "code",
   "execution_count": 12,
   "metadata": {},
   "outputs": [],
   "source": [
    "#Usando uma query SQL é possivel retornar as categorias com mais ocorrências dentro do banco de dados\n",
    "#GROUP BY permite aplicar funções de agregação, como COUNT(), em grupos, neste exemplo, a query ira realizar a contagem de todos os elementos em cada grupo de categorias\n",
    "\n",
    "consulta1 = '''SELECT type, COUNT(*) AS COUNT FROM titles GROUP BY type ORDER BY COUNT DESC'''"
   ]
  },
  {
   "cell_type": "code",
   "execution_count": 13,
   "metadata": {},
   "outputs": [],
   "source": [
    "#executar a query\n",
    "resultado1 = pd.read_sql_query(consulta1, conn)"
   ]
  },
  {
   "cell_type": "code",
   "execution_count": 14,
   "metadata": {},
   "outputs": [
    {
     "data": {
      "text/html": [
       "<div>\n",
       "<style scoped>\n",
       "    .dataframe tbody tr th:only-of-type {\n",
       "        vertical-align: middle;\n",
       "    }\n",
       "\n",
       "    .dataframe tbody tr th {\n",
       "        vertical-align: top;\n",
       "    }\n",
       "\n",
       "    .dataframe thead th {\n",
       "        text-align: right;\n",
       "    }\n",
       "</style>\n",
       "<table border=\"1\" class=\"dataframe\">\n",
       "  <thead>\n",
       "    <tr style=\"text-align: right;\">\n",
       "      <th></th>\n",
       "      <th>type</th>\n",
       "      <th>COUNT</th>\n",
       "    </tr>\n",
       "  </thead>\n",
       "  <tbody>\n",
       "    <tr>\n",
       "      <th>0</th>\n",
       "      <td>tvEpisode</td>\n",
       "      <td>6744815</td>\n",
       "    </tr>\n",
       "    <tr>\n",
       "      <th>1</th>\n",
       "      <td>short</td>\n",
       "      <td>873017</td>\n",
       "    </tr>\n",
       "    <tr>\n",
       "      <th>2</th>\n",
       "      <td>movie</td>\n",
       "      <td>611977</td>\n",
       "    </tr>\n",
       "    <tr>\n",
       "      <th>3</th>\n",
       "      <td>video</td>\n",
       "      <td>261444</td>\n",
       "    </tr>\n",
       "    <tr>\n",
       "      <th>4</th>\n",
       "      <td>tvSeries</td>\n",
       "      <td>226157</td>\n",
       "    </tr>\n",
       "    <tr>\n",
       "      <th>5</th>\n",
       "      <td>tvMovie</td>\n",
       "      <td>136381</td>\n",
       "    </tr>\n",
       "    <tr>\n",
       "      <th>6</th>\n",
       "      <td>tvMiniSeries</td>\n",
       "      <td>43698</td>\n",
       "    </tr>\n",
       "    <tr>\n",
       "      <th>7</th>\n",
       "      <td>tvSpecial</td>\n",
       "      <td>37237</td>\n",
       "    </tr>\n",
       "    <tr>\n",
       "      <th>8</th>\n",
       "      <td>videoGame</td>\n",
       "      <td>31317</td>\n",
       "    </tr>\n",
       "    <tr>\n",
       "      <th>9</th>\n",
       "      <td>tvShort</td>\n",
       "      <td>10562</td>\n",
       "    </tr>\n",
       "    <tr>\n",
       "      <th>10</th>\n",
       "      <td>tvPilot</td>\n",
       "      <td>2</td>\n",
       "    </tr>\n",
       "  </tbody>\n",
       "</table>\n",
       "</div>"
      ],
      "text/plain": [
       "            type    COUNT\n",
       "0      tvEpisode  6744815\n",
       "1          short   873017\n",
       "2          movie   611977\n",
       "3          video   261444\n",
       "4       tvSeries   226157\n",
       "5        tvMovie   136381\n",
       "6   tvMiniSeries    43698\n",
       "7      tvSpecial    37237\n",
       "8      videoGame    31317\n",
       "9        tvShort    10562\n",
       "10       tvPilot        2"
      ]
     },
     "metadata": {},
     "output_type": "display_data"
    }
   ],
   "source": [
    "#vizualizar o resultado\n",
    "display(resultado1)"
   ]
  },
  {
   "cell_type": "code",
   "execution_count": 15,
   "metadata": {},
   "outputs": [],
   "source": [
    "#adicionando uma coluna com o percentual em relação ao total\n",
    "resultado1['percentual'] = (resultado1['COUNT'] / resultado1['COUNT'].sum()) *100"
   ]
  },
  {
   "cell_type": "code",
   "execution_count": 16,
   "metadata": {},
   "outputs": [
    {
     "data": {
      "text/html": [
       "<div>\n",
       "<style scoped>\n",
       "    .dataframe tbody tr th:only-of-type {\n",
       "        vertical-align: middle;\n",
       "    }\n",
       "\n",
       "    .dataframe tbody tr th {\n",
       "        vertical-align: top;\n",
       "    }\n",
       "\n",
       "    .dataframe thead th {\n",
       "        text-align: right;\n",
       "    }\n",
       "</style>\n",
       "<table border=\"1\" class=\"dataframe\">\n",
       "  <thead>\n",
       "    <tr style=\"text-align: right;\">\n",
       "      <th></th>\n",
       "      <th>type</th>\n",
       "      <th>COUNT</th>\n",
       "      <th>percentual</th>\n",
       "    </tr>\n",
       "  </thead>\n",
       "  <tbody>\n",
       "    <tr>\n",
       "      <th>0</th>\n",
       "      <td>tvEpisode</td>\n",
       "      <td>6744815</td>\n",
       "      <td>75.137688</td>\n",
       "    </tr>\n",
       "    <tr>\n",
       "      <th>1</th>\n",
       "      <td>short</td>\n",
       "      <td>873017</td>\n",
       "      <td>9.725468</td>\n",
       "    </tr>\n",
       "    <tr>\n",
       "      <th>2</th>\n",
       "      <td>movie</td>\n",
       "      <td>611977</td>\n",
       "      <td>6.817465</td>\n",
       "    </tr>\n",
       "    <tr>\n",
       "      <th>3</th>\n",
       "      <td>video</td>\n",
       "      <td>261444</td>\n",
       "      <td>2.912504</td>\n",
       "    </tr>\n",
       "    <tr>\n",
       "      <th>4</th>\n",
       "      <td>tvSeries</td>\n",
       "      <td>226157</td>\n",
       "      <td>2.519404</td>\n",
       "    </tr>\n",
       "    <tr>\n",
       "      <th>5</th>\n",
       "      <td>tvMovie</td>\n",
       "      <td>136381</td>\n",
       "      <td>1.519293</td>\n",
       "    </tr>\n",
       "    <tr>\n",
       "      <th>6</th>\n",
       "      <td>tvMiniSeries</td>\n",
       "      <td>43698</td>\n",
       "      <td>0.486799</td>\n",
       "    </tr>\n",
       "    <tr>\n",
       "      <th>7</th>\n",
       "      <td>tvSpecial</td>\n",
       "      <td>37237</td>\n",
       "      <td>0.414823</td>\n",
       "    </tr>\n",
       "    <tr>\n",
       "      <th>8</th>\n",
       "      <td>videoGame</td>\n",
       "      <td>31317</td>\n",
       "      <td>0.348873</td>\n",
       "    </tr>\n",
       "    <tr>\n",
       "      <th>9</th>\n",
       "      <td>tvShort</td>\n",
       "      <td>10562</td>\n",
       "      <td>0.117661</td>\n",
       "    </tr>\n",
       "    <tr>\n",
       "      <th>10</th>\n",
       "      <td>tvPilot</td>\n",
       "      <td>2</td>\n",
       "      <td>0.000022</td>\n",
       "    </tr>\n",
       "  </tbody>\n",
       "</table>\n",
       "</div>"
      ],
      "text/plain": [
       "            type    COUNT  percentual\n",
       "0      tvEpisode  6744815   75.137688\n",
       "1          short   873017    9.725468\n",
       "2          movie   611977    6.817465\n",
       "3          video   261444    2.912504\n",
       "4       tvSeries   226157    2.519404\n",
       "5        tvMovie   136381    1.519293\n",
       "6   tvMiniSeries    43698    0.486799\n",
       "7      tvSpecial    37237    0.414823\n",
       "8      videoGame    31317    0.348873\n",
       "9        tvShort    10562    0.117661\n",
       "10       tvPilot        2    0.000022"
      ]
     },
     "metadata": {},
     "output_type": "display_data"
    }
   ],
   "source": [
    "#vizualizar o resultado\n",
    "display(resultado1)"
   ]
  },
  {
   "cell_type": "code",
   "execution_count": 17,
   "metadata": {},
   "outputs": [],
   "source": [
    "#Consolidando um pouco mais, seria possivel condençar a tabela em apenas 4 categorias, as 3 maiores e as demais em \"outros\"\n",
    "#Para isso, um dicionário poderia armazenar a nova categoria, inicialmente, devido ao seu carater de chave-valor\n",
    "\n",
    "others = {}\n",
    "\n",
    "#filtra o percentual que esta abaixo de 5% e soma o total destes\n",
    "others['COUNT'] = resultado1[resultado1['percentual']<5]['COUNT'].sum()\n",
    "\n",
    "#gravando o percentual\n",
    "others['percentual'] = resultado1[resultado1['percentual']<5]['percentual'].sum()\n",
    "\n",
    "#ajusta o nome na tabela \n",
    "others['type']= 'others'\n",
    "\n"
   ]
  },
  {
   "cell_type": "code",
   "execution_count": 18,
   "metadata": {},
   "outputs": [
    {
     "data": {
      "text/plain": [
       "{'COUNT': 746798, 'percentual': 8.319379471553116, 'type': 'others'}"
      ]
     },
     "execution_count": 18,
     "metadata": {},
     "output_type": "execute_result"
    }
   ],
   "source": [
    "#vizualizando o resultado\n",
    "others"
   ]
  },
  {
   "cell_type": "code",
   "execution_count": 19,
   "metadata": {},
   "outputs": [],
   "source": [
    "#filtra o dataframe com as categorias com mais de 5% de ocorrencias para montar o resultado \n",
    "resultado1 = resultado1[resultado1['percentual']>5]"
   ]
  },
  {
   "cell_type": "code",
   "execution_count": 20,
   "metadata": {},
   "outputs": [],
   "source": [
    "#append com o dataframe \"others\"\n",
    "resultado1 = resultado1.append(others, ignore_index= True)"
   ]
  },
  {
   "cell_type": "code",
   "execution_count": 21,
   "metadata": {},
   "outputs": [
    {
     "data": {
      "text/html": [
       "<div>\n",
       "<style scoped>\n",
       "    .dataframe tbody tr th:only-of-type {\n",
       "        vertical-align: middle;\n",
       "    }\n",
       "\n",
       "    .dataframe tbody tr th {\n",
       "        vertical-align: top;\n",
       "    }\n",
       "\n",
       "    .dataframe thead th {\n",
       "        text-align: right;\n",
       "    }\n",
       "</style>\n",
       "<table border=\"1\" class=\"dataframe\">\n",
       "  <thead>\n",
       "    <tr style=\"text-align: right;\">\n",
       "      <th></th>\n",
       "      <th>type</th>\n",
       "      <th>COUNT</th>\n",
       "      <th>percentual</th>\n",
       "    </tr>\n",
       "  </thead>\n",
       "  <tbody>\n",
       "    <tr>\n",
       "      <th>0</th>\n",
       "      <td>tvEpisode</td>\n",
       "      <td>6744815</td>\n",
       "      <td>75.137688</td>\n",
       "    </tr>\n",
       "    <tr>\n",
       "      <th>1</th>\n",
       "      <td>short</td>\n",
       "      <td>873017</td>\n",
       "      <td>9.725468</td>\n",
       "    </tr>\n",
       "    <tr>\n",
       "      <th>2</th>\n",
       "      <td>movie</td>\n",
       "      <td>611977</td>\n",
       "      <td>6.817465</td>\n",
       "    </tr>\n",
       "    <tr>\n",
       "      <th>3</th>\n",
       "      <td>others</td>\n",
       "      <td>746798</td>\n",
       "      <td>8.319379</td>\n",
       "    </tr>\n",
       "  </tbody>\n",
       "</table>\n",
       "</div>"
      ],
      "text/plain": [
       "        type    COUNT  percentual\n",
       "0  tvEpisode  6744815   75.137688\n",
       "1      short   873017    9.725468\n",
       "2      movie   611977    6.817465\n",
       "3     others   746798    8.319379"
      ]
     },
     "metadata": {},
     "output_type": "display_data"
    }
   ],
   "source": [
    "#testando\n",
    "display(resultado1)"
   ]
  },
  {
   "cell_type": "code",
   "execution_count": 22,
   "metadata": {},
   "outputs": [],
   "source": [
    "#ordenando a partir do numero de ocorrências \"COUNT\"\n",
    "resultado1 = resultado1.sort_values(by = 'COUNT', ascending= False)"
   ]
  },
  {
   "cell_type": "code",
   "execution_count": 23,
   "metadata": {},
   "outputs": [
    {
     "data": {
      "text/html": [
       "<div>\n",
       "<style scoped>\n",
       "    .dataframe tbody tr th:only-of-type {\n",
       "        vertical-align: middle;\n",
       "    }\n",
       "\n",
       "    .dataframe tbody tr th {\n",
       "        vertical-align: top;\n",
       "    }\n",
       "\n",
       "    .dataframe thead th {\n",
       "        text-align: right;\n",
       "    }\n",
       "</style>\n",
       "<table border=\"1\" class=\"dataframe\">\n",
       "  <thead>\n",
       "    <tr style=\"text-align: right;\">\n",
       "      <th></th>\n",
       "      <th>type</th>\n",
       "      <th>COUNT</th>\n",
       "      <th>percentual</th>\n",
       "    </tr>\n",
       "  </thead>\n",
       "  <tbody>\n",
       "    <tr>\n",
       "      <th>0</th>\n",
       "      <td>tvEpisode</td>\n",
       "      <td>6744815</td>\n",
       "      <td>75.137688</td>\n",
       "    </tr>\n",
       "    <tr>\n",
       "      <th>1</th>\n",
       "      <td>short</td>\n",
       "      <td>873017</td>\n",
       "      <td>9.725468</td>\n",
       "    </tr>\n",
       "    <tr>\n",
       "      <th>3</th>\n",
       "      <td>others</td>\n",
       "      <td>746798</td>\n",
       "      <td>8.319379</td>\n",
       "    </tr>\n",
       "    <tr>\n",
       "      <th>2</th>\n",
       "      <td>movie</td>\n",
       "      <td>611977</td>\n",
       "      <td>6.817465</td>\n",
       "    </tr>\n",
       "  </tbody>\n",
       "</table>\n",
       "</div>"
      ],
      "text/plain": [
       "        type    COUNT  percentual\n",
       "0  tvEpisode  6744815   75.137688\n",
       "1      short   873017    9.725468\n",
       "3     others   746798    8.319379\n",
       "2      movie   611977    6.817465"
      ]
     },
     "execution_count": 23,
     "metadata": {},
     "output_type": "execute_result"
    }
   ],
   "source": [
    "#visualizando\n",
    "resultado1.head()"
   ]
  },
  {
   "cell_type": "code",
   "execution_count": 24,
   "metadata": {},
   "outputs": [],
   "source": [
    "#para tornar a visualização ainda mais eficiente, criar um gráfico pode ser uma boa opção\n",
    "#ajustando as labels\n",
    "#abaixo temos o uso de uma list comprehension, que consiste em usar um loop e suas instruções dentro de um unico comando, leia-se do final para o inicio: para cada item em \"resultado1\", transforme em string o seu respectivo \"type\", concatene com um espaco em branco, junto do percentual arredondado em duas casas\n",
    "labels = [str(resultado1['type'][i])+' '+'['+str(round(resultado1['percentual'][i],2))+'%'+']' for i in resultado1.index]\n",
    "\n"
   ]
  },
  {
   "cell_type": "code",
   "execution_count": 25,
   "metadata": {},
   "outputs": [
    {
     "data": {
      "text/plain": [
       "<function matplotlib.pyplot.show(close=None, block=None)>"
      ]
     },
     "execution_count": 25,
     "metadata": {},
     "output_type": "execute_result"
    },
    {
     "data": {
      "image/png": "[encoded data removed]",
      "text/plain": [
       "<Figure size 432x288 with 1 Axes>"
      ]
     },
     "metadata": {},
     "output_type": "display_data"
    }
   ],
   "source": [
    "#montando o gráfico\n",
    "#selecionando o mapa de cores\n",
    "cs = cm.Set2(np.arange(100))\n",
    "\n",
    "#plt.figure é responsavel por tornar acessivel as metricas da figura (entenda figura como o espaço de visualização, uma \"janela\" que será configurada para mostrar \"plt.show\"), editar parametros originais\n",
    "f = plt.figure\n",
    "\n",
    "#configurando o grafico de pizza\n",
    "#plt.pie seleciona o modelo de grafico de pizza, tendo como primeiro parametro qual serao os dados a serem representados, após, \"labeldistance\", que eu ainda nao descobri o que é, \"radius\" seria o tamanho em rad da circunferência, \"colors\", obviamente, esquema de cores a serem utilizados, \"wedgeprops\", proporção das paredes de cada fatia, em \"none\", temso um grafico com as paredes totalmentes unidas no centro, com dict(width = x) teremos a distancia x do centro, formando um grafico rosca\n",
    "plt.pie(resultado1['COUNT'], labeldistance= 1, radius= 2.78, colors= cs, wedgeprops= dict(width = 0.3))\n",
    "#plt.legend aplica as legendas de forma separada ao grafico em si (ou seja, permite maior customização por estar em outro parametro). \"labels\" seria o titulo de cada fatia, neste caso, os types com suas porcentagens, \"loc\", localização da legenda na no grafico, \"prop\", edita os parametrso de tamanho da legenda\n",
    "plt.legend(labels = labels, loc = 'lower center', prop = {'size':13})\n",
    "#plt.title permite editar parametros do titulo do grafico, primeiro valor temso o titulo, \"loc\", mais uma vez se refere a localização da string, \"fontdict\" edita metricas da string, como peso e tamanho\n",
    "plt.title(\"Distribuição de Títulos\", loc = 'center', fontdict={'fontsize' : 28, 'fontweight':20})\n",
    "#plt.show apresenta o grafico sem retornos do matplotlib, como os parametros internos\n",
    "plt.show\n"
   ]
  },
  {
   "cell_type": "markdown",
   "metadata": {},
   "source": [
    "2 - Qual a quantidade de filmes por gênero?\n"
   ]
  },
  {
   "cell_type": "code",
   "execution_count": 26,
   "metadata": {},
   "outputs": [],
   "source": [
    "#Para ter acesso a estes dados, uma consulta SQL pode resolver\n",
    "consulta2 = '''SELECT genres, COUNT(*) AS COUNT FROM titles WHERE type = 'movie' GROUP BY genres ORDER BY COUNT DESC'''\n",
    "\n"
   ]
  },
  {
   "cell_type": "code",
   "execution_count": 27,
   "metadata": {},
   "outputs": [],
   "source": [
    "#testando\n",
    "resultado2 = pd.read_sql_query(consulta2,conn)"
   ]
  },
  {
   "cell_type": "code",
   "execution_count": 28,
   "metadata": {},
   "outputs": [
    {
     "data": {
      "text/html": [
       "<div>\n",
       "<style scoped>\n",
       "    .dataframe tbody tr th:only-of-type {\n",
       "        vertical-align: middle;\n",
       "    }\n",
       "\n",
       "    .dataframe tbody tr th {\n",
       "        vertical-align: top;\n",
       "    }\n",
       "\n",
       "    .dataframe thead th {\n",
       "        text-align: right;\n",
       "    }\n",
       "</style>\n",
       "<table border=\"1\" class=\"dataframe\">\n",
       "  <thead>\n",
       "    <tr style=\"text-align: right;\">\n",
       "      <th></th>\n",
       "      <th>genres</th>\n",
       "      <th>COUNT</th>\n",
       "    </tr>\n",
       "  </thead>\n",
       "  <tbody>\n",
       "    <tr>\n",
       "      <th>0</th>\n",
       "      <td>Drama</td>\n",
       "      <td>113305</td>\n",
       "    </tr>\n",
       "    <tr>\n",
       "      <th>1</th>\n",
       "      <td>Documentary</td>\n",
       "      <td>86979</td>\n",
       "    </tr>\n",
       "    <tr>\n",
       "      <th>2</th>\n",
       "      <td>\\N</td>\n",
       "      <td>71519</td>\n",
       "    </tr>\n",
       "    <tr>\n",
       "      <th>3</th>\n",
       "      <td>Comedy</td>\n",
       "      <td>43648</td>\n",
       "    </tr>\n",
       "    <tr>\n",
       "      <th>4</th>\n",
       "      <td>Horror</td>\n",
       "      <td>15083</td>\n",
       "    </tr>\n",
       "    <tr>\n",
       "      <th>...</th>\n",
       "      <td>...</td>\n",
       "      <td>...</td>\n",
       "    </tr>\n",
       "    <tr>\n",
       "      <th>1459</th>\n",
       "      <td>Action,Adult,Sci-Fi</td>\n",
       "      <td>1</td>\n",
       "    </tr>\n",
       "    <tr>\n",
       "      <th>1460</th>\n",
       "      <td>Action,Adult,Horror</td>\n",
       "      <td>1</td>\n",
       "    </tr>\n",
       "    <tr>\n",
       "      <th>1461</th>\n",
       "      <td>Action,Adult,Fantasy</td>\n",
       "      <td>1</td>\n",
       "    </tr>\n",
       "    <tr>\n",
       "      <th>1462</th>\n",
       "      <td>Action,Adult,Documentary</td>\n",
       "      <td>1</td>\n",
       "    </tr>\n",
       "    <tr>\n",
       "      <th>1463</th>\n",
       "      <td>Action,Adult,Adventure</td>\n",
       "      <td>1</td>\n",
       "    </tr>\n",
       "  </tbody>\n",
       "</table>\n",
       "<p>1464 rows × 2 columns</p>\n",
       "</div>"
      ],
      "text/plain": [
       "                        genres   COUNT\n",
       "0                        Drama  113305\n",
       "1                  Documentary   86979\n",
       "2                           \\N   71519\n",
       "3                       Comedy   43648\n",
       "4                       Horror   15083\n",
       "...                        ...     ...\n",
       "1459       Action,Adult,Sci-Fi       1\n",
       "1460       Action,Adult,Horror       1\n",
       "1461      Action,Adult,Fantasy       1\n",
       "1462  Action,Adult,Documentary       1\n",
       "1463    Action,Adult,Adventure       1\n",
       "\n",
       "[1464 rows x 2 columns]"
      ]
     },
     "metadata": {},
     "output_type": "display_data"
    }
   ],
   "source": [
    "#visualizando\n",
    "display(resultado2)"
   ]
  },
  {
   "cell_type": "code",
   "execution_count": 29,
   "metadata": {},
   "outputs": [],
   "source": [
    "#é possivel observar que existem valores com erro, \"\\N\", estem devem ser removidos para uma melhor análise\n",
    "#vamos padronizar os nomes de cda genero para melhor manipulação\n",
    "resultado2['genres'] = resultado2['genres'].str.lower().values"
   ]
  },
  {
   "cell_type": "code",
   "execution_count": 30,
   "metadata": {},
   "outputs": [
    {
     "data": {
      "text/html": [
       "<div>\n",
       "<style scoped>\n",
       "    .dataframe tbody tr th:only-of-type {\n",
       "        vertical-align: middle;\n",
       "    }\n",
       "\n",
       "    .dataframe tbody tr th {\n",
       "        vertical-align: top;\n",
       "    }\n",
       "\n",
       "    .dataframe thead th {\n",
       "        text-align: right;\n",
       "    }\n",
       "</style>\n",
       "<table border=\"1\" class=\"dataframe\">\n",
       "  <thead>\n",
       "    <tr style=\"text-align: right;\">\n",
       "      <th></th>\n",
       "      <th>genres</th>\n",
       "      <th>COUNT</th>\n",
       "    </tr>\n",
       "  </thead>\n",
       "  <tbody>\n",
       "    <tr>\n",
       "      <th>0</th>\n",
       "      <td>drama</td>\n",
       "      <td>113305</td>\n",
       "    </tr>\n",
       "    <tr>\n",
       "      <th>1</th>\n",
       "      <td>documentary</td>\n",
       "      <td>86979</td>\n",
       "    </tr>\n",
       "    <tr>\n",
       "      <th>2</th>\n",
       "      <td>\\n</td>\n",
       "      <td>71519</td>\n",
       "    </tr>\n",
       "    <tr>\n",
       "      <th>3</th>\n",
       "      <td>comedy</td>\n",
       "      <td>43648</td>\n",
       "    </tr>\n",
       "    <tr>\n",
       "      <th>4</th>\n",
       "      <td>horror</td>\n",
       "      <td>15083</td>\n",
       "    </tr>\n",
       "    <tr>\n",
       "      <th>...</th>\n",
       "      <td>...</td>\n",
       "      <td>...</td>\n",
       "    </tr>\n",
       "    <tr>\n",
       "      <th>1459</th>\n",
       "      <td>action,adult,sci-fi</td>\n",
       "      <td>1</td>\n",
       "    </tr>\n",
       "    <tr>\n",
       "      <th>1460</th>\n",
       "      <td>action,adult,horror</td>\n",
       "      <td>1</td>\n",
       "    </tr>\n",
       "    <tr>\n",
       "      <th>1461</th>\n",
       "      <td>action,adult,fantasy</td>\n",
       "      <td>1</td>\n",
       "    </tr>\n",
       "    <tr>\n",
       "      <th>1462</th>\n",
       "      <td>action,adult,documentary</td>\n",
       "      <td>1</td>\n",
       "    </tr>\n",
       "    <tr>\n",
       "      <th>1463</th>\n",
       "      <td>action,adult,adventure</td>\n",
       "      <td>1</td>\n",
       "    </tr>\n",
       "  </tbody>\n",
       "</table>\n",
       "<p>1464 rows × 2 columns</p>\n",
       "</div>"
      ],
      "text/plain": [
       "                        genres   COUNT\n",
       "0                        drama  113305\n",
       "1                  documentary   86979\n",
       "2                           \\n   71519\n",
       "3                       comedy   43648\n",
       "4                       horror   15083\n",
       "...                        ...     ...\n",
       "1459       action,adult,sci-fi       1\n",
       "1460       action,adult,horror       1\n",
       "1461      action,adult,fantasy       1\n",
       "1462  action,adult,documentary       1\n",
       "1463    action,adult,adventure       1\n",
       "\n",
       "[1464 rows x 2 columns]"
      ]
     },
     "metadata": {},
     "output_type": "display_data"
    }
   ],
   "source": [
    "#testando\n",
    "display(resultado2)"
   ]
  },
  {
   "cell_type": "code",
   "execution_count": 31,
   "metadata": {},
   "outputs": [],
   "source": [
    "#antes de limpar, vamso adicionar a coluna de porcentagem\n",
    "resultado2['percentual'] = resultado2['COUNT']/resultado2['COUNT'].sum() *100"
   ]
  },
  {
   "cell_type": "code",
   "execution_count": 32,
   "metadata": {},
   "outputs": [
    {
     "data": {
      "text/html": [
       "<div>\n",
       "<style scoped>\n",
       "    .dataframe tbody tr th:only-of-type {\n",
       "        vertical-align: middle;\n",
       "    }\n",
       "\n",
       "    .dataframe tbody tr th {\n",
       "        vertical-align: top;\n",
       "    }\n",
       "\n",
       "    .dataframe thead th {\n",
       "        text-align: right;\n",
       "    }\n",
       "</style>\n",
       "<table border=\"1\" class=\"dataframe\">\n",
       "  <thead>\n",
       "    <tr style=\"text-align: right;\">\n",
       "      <th></th>\n",
       "      <th>genres</th>\n",
       "      <th>COUNT</th>\n",
       "      <th>percentual</th>\n",
       "    </tr>\n",
       "  </thead>\n",
       "  <tbody>\n",
       "    <tr>\n",
       "      <th>0</th>\n",
       "      <td>drama</td>\n",
       "      <td>113305</td>\n",
       "      <td>18.514585</td>\n",
       "    </tr>\n",
       "    <tr>\n",
       "      <th>1</th>\n",
       "      <td>documentary</td>\n",
       "      <td>86979</td>\n",
       "      <td>14.212789</td>\n",
       "    </tr>\n",
       "    <tr>\n",
       "      <th>2</th>\n",
       "      <td>\\n</td>\n",
       "      <td>71519</td>\n",
       "      <td>11.686550</td>\n",
       "    </tr>\n",
       "    <tr>\n",
       "      <th>3</th>\n",
       "      <td>comedy</td>\n",
       "      <td>43648</td>\n",
       "      <td>7.132294</td>\n",
       "    </tr>\n",
       "    <tr>\n",
       "      <th>4</th>\n",
       "      <td>horror</td>\n",
       "      <td>15083</td>\n",
       "      <td>2.464635</td>\n",
       "    </tr>\n",
       "    <tr>\n",
       "      <th>...</th>\n",
       "      <td>...</td>\n",
       "      <td>...</td>\n",
       "      <td>...</td>\n",
       "    </tr>\n",
       "    <tr>\n",
       "      <th>1459</th>\n",
       "      <td>action,adult,sci-fi</td>\n",
       "      <td>1</td>\n",
       "      <td>0.000163</td>\n",
       "    </tr>\n",
       "    <tr>\n",
       "      <th>1460</th>\n",
       "      <td>action,adult,horror</td>\n",
       "      <td>1</td>\n",
       "      <td>0.000163</td>\n",
       "    </tr>\n",
       "    <tr>\n",
       "      <th>1461</th>\n",
       "      <td>action,adult,fantasy</td>\n",
       "      <td>1</td>\n",
       "      <td>0.000163</td>\n",
       "    </tr>\n",
       "    <tr>\n",
       "      <th>1462</th>\n",
       "      <td>action,adult,documentary</td>\n",
       "      <td>1</td>\n",
       "      <td>0.000163</td>\n",
       "    </tr>\n",
       "    <tr>\n",
       "      <th>1463</th>\n",
       "      <td>action,adult,adventure</td>\n",
       "      <td>1</td>\n",
       "      <td>0.000163</td>\n",
       "    </tr>\n",
       "  </tbody>\n",
       "</table>\n",
       "<p>1464 rows × 3 columns</p>\n",
       "</div>"
      ],
      "text/plain": [
       "                        genres   COUNT  percentual\n",
       "0                        drama  113305   18.514585\n",
       "1                  documentary   86979   14.212789\n",
       "2                           \\n   71519   11.686550\n",
       "3                       comedy   43648    7.132294\n",
       "4                       horror   15083    2.464635\n",
       "...                        ...     ...         ...\n",
       "1459       action,adult,sci-fi       1    0.000163\n",
       "1460       action,adult,horror       1    0.000163\n",
       "1461      action,adult,fantasy       1    0.000163\n",
       "1462  action,adult,documentary       1    0.000163\n",
       "1463    action,adult,adventure       1    0.000163\n",
       "\n",
       "[1464 rows x 3 columns]"
      ]
     },
     "metadata": {},
     "output_type": "display_data"
    }
   ],
   "source": [
    "#visualizando\n",
    "display(resultado2)"
   ]
  },
  {
   "cell_type": "code",
   "execution_count": 33,
   "metadata": {},
   "outputs": [],
   "source": [
    "#para retirar os valores com erro, valores NA, usamos um recurso da lib pandas, e vamos armazenar em uma variavel temporaria\n",
    "temp = resultado2['genres'].dropna()"
   ]
  },
  {
   "cell_type": "code",
   "execution_count": 34,
   "metadata": {},
   "outputs": [],
   "source": [
    "#Outra forma de contar e organizar, seria usar o countvectorizer, que transfomará a coluna de 'genres' em uma matriz one-hot encoded, principalmente usada em dados categoricos\n",
    "#para podermos manipular strings, organizar as categorias dos títulos e coisas assim, temso que usar expressões regulares\n",
    "#uma expressão regular é caracterizada por permitir a localização e manipulação de string a partir de um padrão, este deve ser codificado\n",
    "#no caso abaixo:\n",
    "# '()' seria um forma de ordenar multiplas REGEX, logo, a primeira expressão a ser processada sera a que estiver dentros dos parenteses\n",
    "# \"?u\", que seria: \"?\" referenciando a instrução \"re.\"\", e \"u\" correspondencia ao formato unicode\n",
    "#\"\\b\", representa espaço em branco, e \"\\bpalavra\\b\" sinaliza somente \"palavra\" em seu formato inteiriço, somente palavras inteiras, tendo no inicio e no final espaços em branco (espaço entre caractres)\n",
    "#\"[]\", indica os caracteres a serem trabalhados\n",
    "#\"\\w\" simboliza caracteres em palavras\n",
    "#\"+\" permite uma ou mais ocorrências\n",
    "padrao = '(?u)\\\\b[\\\\w]+\\\\b'\n",
    "\n"
   ]
  },
  {
   "cell_type": "code",
   "execution_count": 35,
   "metadata": {},
   "outputs": [],
   "source": [
    "#para fins de conhecimento, podemos usar a função countvectorizer do pacote sklearn.\n",
    "#CountVectorizer transforma docuemntos de texto uma matriz esparsa com o vocabulário dele, sinalizando o numero de ocorrências de cada elemento. Costuma ser usado em ambientes de ML para treinar modelos\n",
    "#neste exemplo temos o padrão a ser analizado dentro do documento \"padrao\", a regez feita anteriormente, e o tipo de elemento a ser analisado, neste caso, palavra por palavra, e, em seguida, o arquivo a ser lido.\n",
    "#mas neste momento, este comando apenas \"treina\" o vetor, precisamos aplicar posteriormente\n",
    "vetor = CountVectorizer(token_pattern= padrao, analyzer='word').fit(temp)"
   ]
  },
  {
   "cell_type": "code",
   "execution_count": 36,
   "metadata": {},
   "outputs": [
    {
     "data": {
      "text/plain": [
       "sklearn.feature_extraction.text.CountVectorizer"
      ]
     },
     "execution_count": 36,
     "metadata": {},
     "output_type": "execute_result"
    }
   ],
   "source": [
    "#verificando o tipo do vetor\n",
    "type(vetor)"
   ]
  },
  {
   "cell_type": "code",
   "execution_count": 37,
   "metadata": {},
   "outputs": [],
   "source": [
    "#aplicando a vetorização\n",
    "bag_genres = vetor.transform(temp)"
   ]
  },
  {
   "cell_type": "code",
   "execution_count": 38,
   "metadata": {},
   "outputs": [
    {
     "data": {
      "text/plain": [
       "scipy.sparse.csr.csr_matrix"
      ]
     },
     "execution_count": 38,
     "metadata": {},
     "output_type": "execute_result"
    }
   ],
   "source": [
    "#verificando o tipo\n",
    "type(bag_genres)"
   ]
  },
  {
   "cell_type": "code",
   "execution_count": 39,
   "metadata": {},
   "outputs": [],
   "source": [
    "#vamos retornar apenas os generos unicos, extraindo o nome das colunas da matrix esparsa (que são as palavras distintas no documento)\n",
    "generos_unicos = vetor.get_feature_names()"
   ]
  },
  {
   "cell_type": "code",
   "execution_count": 40,
   "metadata": {},
   "outputs": [],
   "source": [
    "#criando um dataframe de generos\n",
    "#pd.dataframe possui como primeiro parametro a fonte de dados, neste caso seria a bolsa de generos tranformada em uma matriz, com as colunas sendo dos genros unicos, com a indexação do arquivo temp\n",
    "generos = pd.DataFrame(bag_genres.todense(), columns = generos_unicos, index= temp.index)"
   ]
  },
  {
   "cell_type": "code",
   "execution_count": 41,
   "metadata": {},
   "outputs": [
    {
     "name": "stdout",
     "output_type": "stream",
     "text": [
      "<class 'pandas.core.frame.DataFrame'>\n",
      "Int64Index: 1464 entries, 0 to 1463\n",
      "Data columns (total 33 columns):\n",
      " #   Column       Non-Null Count  Dtype\n",
      "---  ------       --------------  -----\n",
      " 0   action       1464 non-null   int64\n",
      " 1   adult        1464 non-null   int64\n",
      " 2   adventure    1464 non-null   int64\n",
      " 3   animation    1464 non-null   int64\n",
      " 4   biography    1464 non-null   int64\n",
      " 5   comedy       1464 non-null   int64\n",
      " 6   crime        1464 non-null   int64\n",
      " 7   documentary  1464 non-null   int64\n",
      " 8   drama        1464 non-null   int64\n",
      " 9   family       1464 non-null   int64\n",
      " 10  fantasy      1464 non-null   int64\n",
      " 11  fi           1464 non-null   int64\n",
      " 12  film         1464 non-null   int64\n",
      " 13  game         1464 non-null   int64\n",
      " 14  history      1464 non-null   int64\n",
      " 15  horror       1464 non-null   int64\n",
      " 16  music        1464 non-null   int64\n",
      " 17  musical      1464 non-null   int64\n",
      " 18  mystery      1464 non-null   int64\n",
      " 19  n            1464 non-null   int64\n",
      " 20  news         1464 non-null   int64\n",
      " 21  noir         1464 non-null   int64\n",
      " 22  reality      1464 non-null   int64\n",
      " 23  romance      1464 non-null   int64\n",
      " 24  sci          1464 non-null   int64\n",
      " 25  short        1464 non-null   int64\n",
      " 26  show         1464 non-null   int64\n",
      " 27  sport        1464 non-null   int64\n",
      " 28  talk         1464 non-null   int64\n",
      " 29  thriller     1464 non-null   int64\n",
      " 30  tv           1464 non-null   int64\n",
      " 31  war          1464 non-null   int64\n",
      " 32  western      1464 non-null   int64\n",
      "dtypes: int64(33)\n",
      "memory usage: 388.9 KB\n"
     ]
    }
   ],
   "source": [
    "#visualizando\n",
    "generos.info()"
   ]
  },
  {
   "cell_type": "code",
   "execution_count": 42,
   "metadata": {},
   "outputs": [],
   "source": [
    "#retirando a coluna \"n\"\n",
    "#selecionamos a coluna a partir de \"columns\" e o eixo a ser excluido, 0 para coluna e 1 para linha\n",
    "generos = generos.drop(columns='n', axis=0)"
   ]
  },
  {
   "cell_type": "code",
   "execution_count": 43,
   "metadata": {},
   "outputs": [],
   "source": [
    "#calculando o percentual de cada genero\n",
    "#pd.series captura o elemento de cada rotulo, parecido com o GROUP BY, principalmente para realizar operações .sort_values organiza os dados, de forma ascendente ou nao, shape[0] retorna o numero de linhas, e 1, o numero de colunas\n",
    "#como estamos lidando com uma matriz esparsa, nosso método de calcular a porcentagem difere um pouco do comum, precisamos somar a qunatidade de vezes que um genero apareceu, exemplo, ação, é uma palavra unica que representa um gênero, dentro mais de 1400, segundo o dataframe, logo basta somarmos quantas vezes acção apareceu e dividir pelo total de generos, que neste caso seria o total de linhas, ja que na matriz esparsa as linhas representam as entradas de dados. Teriamos apenas uma linha caso os genros fossem dispostos em apenas uma linha, mas como viemos de uma tabela, cada rótulo se tornou uma entrada.\n",
    "generos_percentual = 100 * pd.Series(generos.sum()).sort_values(ascending = False) / generos.shape[0]"
   ]
  },
  {
   "cell_type": "code",
   "execution_count": 44,
   "metadata": {},
   "outputs": [
    {
     "data": {
      "text/plain": [
       "drama          17.964481\n",
       "comedy         16.871585\n",
       "documentary    15.846995\n",
       "adventure      14.890710\n",
       "action         14.412568\n",
       "romance        13.319672\n",
       "crime          13.114754\n",
       "mystery        12.500000\n",
       "thriller       12.295082\n",
       "fantasy        12.090164\n",
       "horror         12.090164\n",
       "history        11.748634\n",
       "family         11.270492\n",
       "fi             11.133880\n",
       "sci            11.133880\n",
       "dtype: float64"
      ]
     },
     "execution_count": 44,
     "metadata": {},
     "output_type": "execute_result"
    }
   ],
   "source": [
    "#visualizando o resultado\n",
    "generos_percentual.head(15)"
   ]
  },
  {
   "cell_type": "code",
   "execution_count": 45,
   "metadata": {},
   "outputs": [
    {
     "data": {
      "image/png": "[encoded data removed]",
      "text/plain": [
       "<Figure size 1152x648 with 1 Axes>"
      ]
     },
     "metadata": {},
     "output_type": "display_data"
    }
   ],
   "source": [
    "#montando um grafico com seaborn\n",
    "#primeiro passo é definir o tamanho do campo disponivel para o gráfico, com \"figure'\n",
    "#diferente do primeiro caso, neste nao especificamos o arquivo todo, mas os dados dele para a plotagem, x indica o que sera mostrado no eixo x, e y os elemnetos na vertical, index são os rotulos, e values os valores\n",
    "plt.figure(figsize=(16,9))\n",
    "sns.barplot(x=generos_percentual.values, y=generos_percentual.index, palette = 'terrain')\n",
    "#aqui temos a nomeação do gráfico e dos eixos\n",
    "plt.xlabel(\"\\n Percentual de filmes (%)\")\n",
    "plt.ylabel(\"Gêneros\")\n",
    "plt.title(\"Número de títulos por gêneros\")\n",
    "plt.show()\n",
    "\n",
    "\n",
    "\n",
    "\n",
    "\n",
    "\n",
    "\n"
   ]
  },
  {
   "cell_type": "markdown",
   "metadata": {},
   "source": [
    "3 - Qual a mediana de avaliação dos filmes por gênero?"
   ]
  },
  {
   "cell_type": "code",
   "execution_count": 46,
   "metadata": {},
   "outputs": [],
   "source": [
    "#Mediana é o valor que divide um conjunto de elementos extamente ao meio, após ordenado.\n",
    "#Criando a consulta para extrair as avaliações  \n",
    "consulta3 ='''SELECT rating, genres FROM\n",
    "ratings JOIN titles ON ratings.title_id = titles.title_id\n",
    "WHERE premiered <= 2022 AND type = 'movie'\n",
    "'''"
   ]
  },
  {
   "cell_type": "code",
   "execution_count": 47,
   "metadata": {},
   "outputs": [],
   "source": [
    "#resultado\n",
    "resultado3 = pd.read_sql_query(consulta3, conn)"
   ]
  },
  {
   "cell_type": "code",
   "execution_count": 48,
   "metadata": {},
   "outputs": [
    {
     "data": {
      "text/html": [
       "<div>\n",
       "<style scoped>\n",
       "    .dataframe tbody tr th:only-of-type {\n",
       "        vertical-align: middle;\n",
       "    }\n",
       "\n",
       "    .dataframe tbody tr th {\n",
       "        vertical-align: top;\n",
       "    }\n",
       "\n",
       "    .dataframe thead th {\n",
       "        text-align: right;\n",
       "    }\n",
       "</style>\n",
       "<table border=\"1\" class=\"dataframe\">\n",
       "  <thead>\n",
       "    <tr style=\"text-align: right;\">\n",
       "      <th></th>\n",
       "      <th>rating</th>\n",
       "      <th>genres</th>\n",
       "    </tr>\n",
       "  </thead>\n",
       "  <tbody>\n",
       "    <tr>\n",
       "      <th>0</th>\n",
       "      <td>4.5</td>\n",
       "      <td>\\N</td>\n",
       "    </tr>\n",
       "    <tr>\n",
       "      <th>1</th>\n",
       "      <td>6.0</td>\n",
       "      <td>Action,Adventure,Biography</td>\n",
       "    </tr>\n",
       "    <tr>\n",
       "      <th>2</th>\n",
       "      <td>4.5</td>\n",
       "      <td>Drama</td>\n",
       "    </tr>\n",
       "    <tr>\n",
       "      <th>3</th>\n",
       "      <td>4.5</td>\n",
       "      <td>Drama</td>\n",
       "    </tr>\n",
       "    <tr>\n",
       "      <th>4</th>\n",
       "      <td>3.9</td>\n",
       "      <td>Drama</td>\n",
       "    </tr>\n",
       "    <tr>\n",
       "      <th>...</th>\n",
       "      <td>...</td>\n",
       "      <td>...</td>\n",
       "    </tr>\n",
       "    <tr>\n",
       "      <th>279071</th>\n",
       "      <td>5.8</td>\n",
       "      <td>Thriller</td>\n",
       "    </tr>\n",
       "    <tr>\n",
       "      <th>279072</th>\n",
       "      <td>6.4</td>\n",
       "      <td>Drama,History</td>\n",
       "    </tr>\n",
       "    <tr>\n",
       "      <th>279073</th>\n",
       "      <td>3.8</td>\n",
       "      <td>Adventure,History,War</td>\n",
       "    </tr>\n",
       "    <tr>\n",
       "      <th>279074</th>\n",
       "      <td>8.3</td>\n",
       "      <td>Drama</td>\n",
       "    </tr>\n",
       "    <tr>\n",
       "      <th>279075</th>\n",
       "      <td>8.4</td>\n",
       "      <td>\\N</td>\n",
       "    </tr>\n",
       "  </tbody>\n",
       "</table>\n",
       "<p>279076 rows × 2 columns</p>\n",
       "</div>"
      ],
      "text/plain": [
       "        rating                      genres\n",
       "0          4.5                          \\N\n",
       "1          6.0  Action,Adventure,Biography\n",
       "2          4.5                       Drama\n",
       "3          4.5                       Drama\n",
       "4          3.9                       Drama\n",
       "...        ...                         ...\n",
       "279071     5.8                    Thriller\n",
       "279072     6.4               Drama,History\n",
       "279073     3.8       Adventure,History,War\n",
       "279074     8.3                       Drama\n",
       "279075     8.4                          \\N\n",
       "\n",
       "[279076 rows x 2 columns]"
      ]
     },
     "metadata": {},
     "output_type": "display_data"
    }
   ],
   "source": [
    "#visualizando resultado\n",
    "display(resultado3)"
   ]
  },
  {
   "cell_type": "code",
   "execution_count": 49,
   "metadata": {},
   "outputs": [],
   "source": [
    "#criando uma função para generos unicos\n",
    "def retorna_generos(df):\n",
    "    df['genres'] = df['genres'].str.lower().values\n",
    "    temp = df['genres'].dropna()\n",
    "    vetor = CountVectorizer(token_pattern= '(?u)\\\\b[\\\\w-]+\\\\b', analyzer = 'word').fit(temp)\n",
    "    generos_unicos = vetor.get_feature_names()\n",
    "    generos_unicos = [genre for genre in generos_unicos if len(genre) > 1]\n",
    "    return generos_unicos"
   ]
  },
  {
   "cell_type": "code",
   "execution_count": 50,
   "metadata": {},
   "outputs": [],
   "source": [
    "#aplicando a função\n",
    "generos_unicos = retorna_generos(resultado3)"
   ]
  },
  {
   "cell_type": "code",
   "execution_count": 51,
   "metadata": {},
   "outputs": [
    {
     "data": {
      "text/plain": [
       "['action',\n",
       " 'adult',\n",
       " 'adventure',\n",
       " 'animation',\n",
       " 'biography',\n",
       " 'comedy',\n",
       " 'crime',\n",
       " 'documentary',\n",
       " 'drama',\n",
       " 'family',\n",
       " 'fantasy',\n",
       " 'film-noir',\n",
       " 'game-show',\n",
       " 'history',\n",
       " 'horror',\n",
       " 'music',\n",
       " 'musical',\n",
       " 'mystery',\n",
       " 'news',\n",
       " 'reality-tv',\n",
       " 'romance',\n",
       " 'sci-fi',\n",
       " 'short',\n",
       " 'sport',\n",
       " 'talk-show',\n",
       " 'thriller',\n",
       " 'war',\n",
       " 'western']"
      ]
     },
     "execution_count": 51,
     "metadata": {},
     "output_type": "execute_result"
    }
   ],
   "source": [
    "#visualizando o resultado após tratamento\n",
    "generos_unicos"
   ]
  },
  {
   "cell_type": "code",
   "execution_count": 52,
   "metadata": {},
   "outputs": [],
   "source": [
    "#criadno duas listas para armazenar os generos e avaliações \n",
    "genero_counts = []\n",
    "genero_ratings = []"
   ]
  },
  {
   "cell_type": "code",
   "execution_count": 53,
   "metadata": {},
   "outputs": [],
   "source": [
    "#criando consultas para extrair os dados\n",
    "for item in generos_unicos:\n",
    "    #retorna a quantidade de filmes por genero\n",
    "    consulta = 'SELECT COUNT(rating) FROM ratings JOIN titles ON ratings.title_id = titles.title_id WHERE genres LIKE' + '\\''+'%'+ item +'%'+'\\' AND type =\\'movie\\''\n",
    "    resultado =  pd.read_sql_query(consulta, conn)\n",
    "    genero_counts.append(resultado.values[0][0])\n",
    "    \n",
    "    #retorna  a avaliação dos filmes por genero\n",
    "    consulta = 'SELECT rating FROM ratings JOIN titles ON ratings.title_id = titles.title_id WHERE genres LIKE' + '\\''+'%'+ item +'%'+'\\' AND type =\\'movie\\''\n",
    "    resultado = pd.read_sql_query(consulta, conn)\n",
    "    genero_ratings.append(np.median(resultado['rating']))"
   ]
  },
  {
   "cell_type": "code",
   "execution_count": 54,
   "metadata": {},
   "outputs": [],
   "source": [
    "#criando o dataframe\n",
    "df_genero_ratings = pd.DataFrame()\n",
    "df_genero_ratings['genres'] = generos_unicos\n",
    "df_genero_ratings['count'] = genero_counts\n",
    "df_genero_ratings['ratings'] = genero_ratings"
   ]
  },
  {
   "cell_type": "code",
   "execution_count": 55,
   "metadata": {},
   "outputs": [
    {
     "data": {
      "text/html": [
       "<div>\n",
       "<style scoped>\n",
       "    .dataframe tbody tr th:only-of-type {\n",
       "        vertical-align: middle;\n",
       "    }\n",
       "\n",
       "    .dataframe tbody tr th {\n",
       "        vertical-align: top;\n",
       "    }\n",
       "\n",
       "    .dataframe thead th {\n",
       "        text-align: right;\n",
       "    }\n",
       "</style>\n",
       "<table border=\"1\" class=\"dataframe\">\n",
       "  <thead>\n",
       "    <tr style=\"text-align: right;\">\n",
       "      <th></th>\n",
       "      <th>genres</th>\n",
       "      <th>count</th>\n",
       "      <th>ratings</th>\n",
       "    </tr>\n",
       "  </thead>\n",
       "  <tbody>\n",
       "    <tr>\n",
       "      <th>0</th>\n",
       "      <td>action</td>\n",
       "      <td>28906</td>\n",
       "      <td>5.8</td>\n",
       "    </tr>\n",
       "    <tr>\n",
       "      <th>1</th>\n",
       "      <td>adult</td>\n",
       "      <td>4378</td>\n",
       "      <td>5.8</td>\n",
       "    </tr>\n",
       "    <tr>\n",
       "      <th>2</th>\n",
       "      <td>adventure</td>\n",
       "      <td>17531</td>\n",
       "      <td>6.0</td>\n",
       "    </tr>\n",
       "    <tr>\n",
       "      <th>3</th>\n",
       "      <td>animation</td>\n",
       "      <td>4798</td>\n",
       "      <td>6.5</td>\n",
       "    </tr>\n",
       "    <tr>\n",
       "      <th>4</th>\n",
       "      <td>biography</td>\n",
       "      <td>8509</td>\n",
       "      <td>7.0</td>\n",
       "    </tr>\n",
       "    <tr>\n",
       "      <th>5</th>\n",
       "      <td>comedy</td>\n",
       "      <td>68967</td>\n",
       "      <td>6.0</td>\n",
       "    </tr>\n",
       "    <tr>\n",
       "      <th>6</th>\n",
       "      <td>crime</td>\n",
       "      <td>23876</td>\n",
       "      <td>6.1</td>\n",
       "    </tr>\n",
       "    <tr>\n",
       "      <th>7</th>\n",
       "      <td>documentary</td>\n",
       "      <td>41790</td>\n",
       "      <td>7.3</td>\n",
       "    </tr>\n",
       "    <tr>\n",
       "      <th>8</th>\n",
       "      <td>drama</td>\n",
       "      <td>123601</td>\n",
       "      <td>6.3</td>\n",
       "    </tr>\n",
       "    <tr>\n",
       "      <th>9</th>\n",
       "      <td>family</td>\n",
       "      <td>10775</td>\n",
       "      <td>6.3</td>\n",
       "    </tr>\n",
       "    <tr>\n",
       "      <th>10</th>\n",
       "      <td>fantasy</td>\n",
       "      <td>8279</td>\n",
       "      <td>6.0</td>\n",
       "    </tr>\n",
       "    <tr>\n",
       "      <th>11</th>\n",
       "      <td>film-noir</td>\n",
       "      <td>770</td>\n",
       "      <td>6.5</td>\n",
       "    </tr>\n",
       "    <tr>\n",
       "      <th>12</th>\n",
       "      <td>game-show</td>\n",
       "      <td>4</td>\n",
       "      <td>6.8</td>\n",
       "    </tr>\n",
       "    <tr>\n",
       "      <th>13</th>\n",
       "      <td>history</td>\n",
       "      <td>7719</td>\n",
       "      <td>6.9</td>\n",
       "    </tr>\n",
       "    <tr>\n",
       "      <th>14</th>\n",
       "      <td>horror</td>\n",
       "      <td>19841</td>\n",
       "      <td>5.0</td>\n",
       "    </tr>\n",
       "    <tr>\n",
       "      <th>15</th>\n",
       "      <td>music</td>\n",
       "      <td>12662</td>\n",
       "      <td>6.5</td>\n",
       "    </tr>\n",
       "    <tr>\n",
       "      <th>16</th>\n",
       "      <td>musical</td>\n",
       "      <td>6262</td>\n",
       "      <td>6.2</td>\n",
       "    </tr>\n",
       "    <tr>\n",
       "      <th>17</th>\n",
       "      <td>mystery</td>\n",
       "      <td>10430</td>\n",
       "      <td>5.9</td>\n",
       "    </tr>\n",
       "    <tr>\n",
       "      <th>18</th>\n",
       "      <td>news</td>\n",
       "      <td>656</td>\n",
       "      <td>7.3</td>\n",
       "    </tr>\n",
       "    <tr>\n",
       "      <th>19</th>\n",
       "      <td>reality-tv</td>\n",
       "      <td>47</td>\n",
       "      <td>6.1</td>\n",
       "    </tr>\n",
       "  </tbody>\n",
       "</table>\n",
       "</div>"
      ],
      "text/plain": [
       "         genres   count  ratings\n",
       "0        action   28906      5.8\n",
       "1         adult    4378      5.8\n",
       "2     adventure   17531      6.0\n",
       "3     animation    4798      6.5\n",
       "4     biography    8509      7.0\n",
       "5        comedy   68967      6.0\n",
       "6         crime   23876      6.1\n",
       "7   documentary   41790      7.3\n",
       "8         drama  123601      6.3\n",
       "9        family   10775      6.3\n",
       "10      fantasy    8279      6.0\n",
       "11    film-noir     770      6.5\n",
       "12    game-show       4      6.8\n",
       "13      history    7719      6.9\n",
       "14       horror   19841      5.0\n",
       "15        music   12662      6.5\n",
       "16      musical    6262      6.2\n",
       "17      mystery   10430      5.9\n",
       "18         news     656      7.3\n",
       "19   reality-tv      47      6.1"
      ]
     },
     "execution_count": 55,
     "metadata": {},
     "output_type": "execute_result"
    }
   ],
   "source": [
    "#visualizando\n",
    "df_genero_ratings.head(20)"
   ]
  },
  {
   "cell_type": "code",
   "execution_count": 56,
   "metadata": {},
   "outputs": [],
   "source": [
    "#retirando a categoria noticiario\n",
    "df_genero_ratings = df_genero_ratings.drop(index=18)"
   ]
  },
  {
   "cell_type": "code",
   "execution_count": 57,
   "metadata": {},
   "outputs": [],
   "source": [
    "#ordenando o resultado\n",
    "df_genero_ratings = df_genero_ratings.sort_values(by= 'ratings', ascending= False)"
   ]
  },
  {
   "cell_type": "code",
   "execution_count": 58,
   "metadata": {},
   "outputs": [
    {
     "data": {
      "text/html": [
       "<div>\n",
       "<style scoped>\n",
       "    .dataframe tbody tr th:only-of-type {\n",
       "        vertical-align: middle;\n",
       "    }\n",
       "\n",
       "    .dataframe tbody tr th {\n",
       "        vertical-align: top;\n",
       "    }\n",
       "\n",
       "    .dataframe thead th {\n",
       "        text-align: right;\n",
       "    }\n",
       "</style>\n",
       "<table border=\"1\" class=\"dataframe\">\n",
       "  <thead>\n",
       "    <tr style=\"text-align: right;\">\n",
       "      <th></th>\n",
       "      <th>genres</th>\n",
       "      <th>count</th>\n",
       "      <th>ratings</th>\n",
       "    </tr>\n",
       "  </thead>\n",
       "  <tbody>\n",
       "    <tr>\n",
       "      <th>7</th>\n",
       "      <td>documentary</td>\n",
       "      <td>41790</td>\n",
       "      <td>7.3</td>\n",
       "    </tr>\n",
       "    <tr>\n",
       "      <th>22</th>\n",
       "      <td>short</td>\n",
       "      <td>22</td>\n",
       "      <td>7.1</td>\n",
       "    </tr>\n",
       "    <tr>\n",
       "      <th>4</th>\n",
       "      <td>biography</td>\n",
       "      <td>8509</td>\n",
       "      <td>7.0</td>\n",
       "    </tr>\n",
       "    <tr>\n",
       "      <th>13</th>\n",
       "      <td>history</td>\n",
       "      <td>7719</td>\n",
       "      <td>6.9</td>\n",
       "    </tr>\n",
       "    <tr>\n",
       "      <th>12</th>\n",
       "      <td>game-show</td>\n",
       "      <td>4</td>\n",
       "      <td>6.8</td>\n",
       "    </tr>\n",
       "    <tr>\n",
       "      <th>23</th>\n",
       "      <td>sport</td>\n",
       "      <td>3353</td>\n",
       "      <td>6.7</td>\n",
       "    </tr>\n",
       "    <tr>\n",
       "      <th>26</th>\n",
       "      <td>war</td>\n",
       "      <td>5963</td>\n",
       "      <td>6.6</td>\n",
       "    </tr>\n",
       "    <tr>\n",
       "      <th>3</th>\n",
       "      <td>animation</td>\n",
       "      <td>4798</td>\n",
       "      <td>6.5</td>\n",
       "    </tr>\n",
       "    <tr>\n",
       "      <th>15</th>\n",
       "      <td>music</td>\n",
       "      <td>12662</td>\n",
       "      <td>6.5</td>\n",
       "    </tr>\n",
       "    <tr>\n",
       "      <th>11</th>\n",
       "      <td>film-noir</td>\n",
       "      <td>770</td>\n",
       "      <td>6.5</td>\n",
       "    </tr>\n",
       "    <tr>\n",
       "      <th>8</th>\n",
       "      <td>drama</td>\n",
       "      <td>123601</td>\n",
       "      <td>6.3</td>\n",
       "    </tr>\n",
       "    <tr>\n",
       "      <th>9</th>\n",
       "      <td>family</td>\n",
       "      <td>10775</td>\n",
       "      <td>6.3</td>\n",
       "    </tr>\n",
       "    <tr>\n",
       "      <th>24</th>\n",
       "      <td>talk-show</td>\n",
       "      <td>13</td>\n",
       "      <td>6.3</td>\n",
       "    </tr>\n",
       "    <tr>\n",
       "      <th>20</th>\n",
       "      <td>romance</td>\n",
       "      <td>30980</td>\n",
       "      <td>6.2</td>\n",
       "    </tr>\n",
       "    <tr>\n",
       "      <th>16</th>\n",
       "      <td>musical</td>\n",
       "      <td>6262</td>\n",
       "      <td>6.2</td>\n",
       "    </tr>\n",
       "    <tr>\n",
       "      <th>19</th>\n",
       "      <td>reality-tv</td>\n",
       "      <td>47</td>\n",
       "      <td>6.1</td>\n",
       "    </tr>\n",
       "    <tr>\n",
       "      <th>6</th>\n",
       "      <td>crime</td>\n",
       "      <td>23876</td>\n",
       "      <td>6.1</td>\n",
       "    </tr>\n",
       "    <tr>\n",
       "      <th>27</th>\n",
       "      <td>western</td>\n",
       "      <td>5086</td>\n",
       "      <td>6.0</td>\n",
       "    </tr>\n",
       "    <tr>\n",
       "      <th>10</th>\n",
       "      <td>fantasy</td>\n",
       "      <td>8279</td>\n",
       "      <td>6.0</td>\n",
       "    </tr>\n",
       "    <tr>\n",
       "      <th>5</th>\n",
       "      <td>comedy</td>\n",
       "      <td>68967</td>\n",
       "      <td>6.0</td>\n",
       "    </tr>\n",
       "  </tbody>\n",
       "</table>\n",
       "</div>"
      ],
      "text/plain": [
       "         genres   count  ratings\n",
       "7   documentary   41790      7.3\n",
       "22        short      22      7.1\n",
       "4     biography    8509      7.0\n",
       "13      history    7719      6.9\n",
       "12    game-show       4      6.8\n",
       "23        sport    3353      6.7\n",
       "26          war    5963      6.6\n",
       "3     animation    4798      6.5\n",
       "15        music   12662      6.5\n",
       "11    film-noir     770      6.5\n",
       "8         drama  123601      6.3\n",
       "9        family   10775      6.3\n",
       "24    talk-show      13      6.3\n",
       "20      romance   30980      6.2\n",
       "16      musical    6262      6.2\n",
       "19   reality-tv      47      6.1\n",
       "6         crime   23876      6.1\n",
       "27      western    5086      6.0\n",
       "10      fantasy    8279      6.0\n",
       "5        comedy   68967      6.0"
      ]
     },
     "execution_count": 58,
     "metadata": {},
     "output_type": "execute_result"
    }
   ],
   "source": [
    "#visualizando \n",
    "df_genero_ratings.head(20)"
   ]
  },
  {
   "cell_type": "code",
   "execution_count": 59,
   "metadata": {},
   "outputs": [
    {
     "data": {
      "text/plain": [
       "<function matplotlib.pyplot.show(close=None, block=None)>"
      ]
     },
     "execution_count": 59,
     "metadata": {},
     "output_type": "execute_result"
    },
    {
     "data": {
      "image/png": "[encoded data removed]",
      "text/plain": [
       "<Figure size 1152x720 with 1 Axes>"
      ]
     },
     "metadata": {},
     "output_type": "display_data"
    }
   ],
   "source": [
    "#plotando o gráfico\n",
    "plt.figure(figsize=(16,10))\n",
    "\n",
    "#barplot\n",
    "sns.barplot(y = df_genero_ratings.genres, x=df_genero_ratings.ratings, orient=\"h\")\n",
    "\n",
    "#Colocando legendas \n",
    "for i in range(len(df_genero_ratings.index)):\n",
    "    plt.text(2.0, i + 0.25, str(df_genero_ratings['count'][df_genero_ratings.index[i]]) + \" filmes\")\n",
    "    plt.text(df_genero_ratings.ratings[df_genero_ratings.index[i]], i + 0.25, round(df_genero_ratings[\"ratings\"][df_genero_ratings.index[i]],2))\n",
    "\n",
    "plt.ylabel(\"Gênero\")\n",
    "plt.xlabel(\"Mediana Avaliações\")\n",
    "plt.title(\"Mediana das avaliações por gênero\")\n",
    "plt.show"
   ]
  },
  {
   "cell_type": "markdown",
   "metadata": {},
   "source": [
    "4 - Qual a mediana de avaliação dos filmes em relação ao ano de estreia?"
   ]
  },
  {
   "cell_type": "code",
   "execution_count": 60,
   "metadata": {},
   "outputs": [],
   "source": [
    "#criando a consulta\n",
    "\n",
    "consulta4 = '''\n",
    "SELECT rating AS Rating, premiered FROM\n",
    "ratings JOIN titles ON ratings.title_id = titles.title_id\n",
    "WHERE premiered <= 2022 AND type = 'movie'\n",
    "ORDER BY premiered'''"
   ]
  },
  {
   "cell_type": "code",
   "execution_count": 61,
   "metadata": {},
   "outputs": [
    {
     "data": {
      "text/html": [
       "<div>\n",
       "<style scoped>\n",
       "    .dataframe tbody tr th:only-of-type {\n",
       "        vertical-align: middle;\n",
       "    }\n",
       "\n",
       "    .dataframe tbody tr th {\n",
       "        vertical-align: top;\n",
       "    }\n",
       "\n",
       "    .dataframe thead th {\n",
       "        text-align: right;\n",
       "    }\n",
       "</style>\n",
       "<table border=\"1\" class=\"dataframe\">\n",
       "  <thead>\n",
       "    <tr style=\"text-align: right;\">\n",
       "      <th></th>\n",
       "      <th>Rating</th>\n",
       "      <th>premiered</th>\n",
       "    </tr>\n",
       "  </thead>\n",
       "  <tbody>\n",
       "    <tr>\n",
       "      <th>0</th>\n",
       "      <td>6.7</td>\n",
       "      <td>1896</td>\n",
       "    </tr>\n",
       "    <tr>\n",
       "      <th>1</th>\n",
       "      <td>4.5</td>\n",
       "      <td>1897</td>\n",
       "    </tr>\n",
       "    <tr>\n",
       "      <th>2</th>\n",
       "      <td>4.0</td>\n",
       "      <td>1899</td>\n",
       "    </tr>\n",
       "    <tr>\n",
       "      <th>3</th>\n",
       "      <td>3.7</td>\n",
       "      <td>1899</td>\n",
       "    </tr>\n",
       "    <tr>\n",
       "      <th>4</th>\n",
       "      <td>6.0</td>\n",
       "      <td>1900</td>\n",
       "    </tr>\n",
       "    <tr>\n",
       "      <th>...</th>\n",
       "      <td>...</td>\n",
       "      <td>...</td>\n",
       "    </tr>\n",
       "    <tr>\n",
       "      <th>279071</th>\n",
       "      <td>7.6</td>\n",
       "      <td>2022</td>\n",
       "    </tr>\n",
       "    <tr>\n",
       "      <th>279072</th>\n",
       "      <td>9.5</td>\n",
       "      <td>2022</td>\n",
       "    </tr>\n",
       "    <tr>\n",
       "      <th>279073</th>\n",
       "      <td>7.4</td>\n",
       "      <td>2022</td>\n",
       "    </tr>\n",
       "    <tr>\n",
       "      <th>279074</th>\n",
       "      <td>5.0</td>\n",
       "      <td>2022</td>\n",
       "    </tr>\n",
       "    <tr>\n",
       "      <th>279075</th>\n",
       "      <td>3.9</td>\n",
       "      <td>2022</td>\n",
       "    </tr>\n",
       "  </tbody>\n",
       "</table>\n",
       "<p>279076 rows × 2 columns</p>\n",
       "</div>"
      ],
      "text/plain": [
       "        Rating  premiered\n",
       "0          6.7       1896\n",
       "1          4.5       1897\n",
       "2          4.0       1899\n",
       "3          3.7       1899\n",
       "4          6.0       1900\n",
       "...        ...        ...\n",
       "279071     7.6       2022\n",
       "279072     9.5       2022\n",
       "279073     7.4       2022\n",
       "279074     5.0       2022\n",
       "279075     3.9       2022\n",
       "\n",
       "[279076 rows x 2 columns]"
      ]
     },
     "metadata": {},
     "output_type": "display_data"
    }
   ],
   "source": [
    "#visualizando\n",
    "resultado4 = pd.read_sql_query(consulta4,conn)\n",
    "display(resultado4)\n"
   ]
  },
  {
   "cell_type": "code",
   "execution_count": 62,
   "metadata": {},
   "outputs": [],
   "source": [
    "#calcular a mediana para cada ano\n",
    "\n",
    "ratings = []\n",
    "for year in set(resultado4['premiered']):\n",
    "    ratings.append(np.median(resultado4[resultado4['premiered']==year]['Rating']))"
   ]
  },
  {
   "cell_type": "code",
   "execution_count": 63,
   "metadata": {},
   "outputs": [
    {
     "data": {
      "text/plain": [
       "[4.5, 3.85, 5.85, 6.2, 3.4, 4.6, 5.3, 4.5, 3.6]"
      ]
     },
     "execution_count": 63,
     "metadata": {},
     "output_type": "execute_result"
    }
   ],
   "source": [
    "#visualizando\n",
    "ratings[1:10]"
   ]
  },
  {
   "cell_type": "code",
   "execution_count": 64,
   "metadata": {},
   "outputs": [],
   "source": [
    "#criando uma lista de anos para ser a segundo eixo do grafico\n",
    "anos = list(set(resultado4['premiered']))"
   ]
  },
  {
   "cell_type": "code",
   "execution_count": 65,
   "metadata": {},
   "outputs": [
    {
     "data": {
      "text/plain": [
       "[1896,\n",
       " 1897,\n",
       " 1899,\n",
       " 1900,\n",
       " 1901,\n",
       " 1902,\n",
       " 1903,\n",
       " 1904,\n",
       " 1905,\n",
       " 1906,\n",
       " 1907,\n",
       " 1908,\n",
       " 1909,\n",
       " 1910,\n",
       " 1911,\n",
       " 1912,\n",
       " 1913,\n",
       " 1914,\n",
       " 1915,\n",
       " 1916,\n",
       " 1917,\n",
       " 1918,\n",
       " 1919,\n",
       " 1920,\n",
       " 1921,\n",
       " 1922,\n",
       " 1923,\n",
       " 1924,\n",
       " 1925,\n",
       " 1926,\n",
       " 1927,\n",
       " 1928,\n",
       " 1929,\n",
       " 1930,\n",
       " 1931,\n",
       " 1932,\n",
       " 1933,\n",
       " 1934,\n",
       " 1935,\n",
       " 1936,\n",
       " 1937,\n",
       " 1938,\n",
       " 1939,\n",
       " 1940,\n",
       " 1941,\n",
       " 1942,\n",
       " 1943,\n",
       " 1944,\n",
       " 1945,\n",
       " 1946,\n",
       " 1947,\n",
       " 1948,\n",
       " 1949,\n",
       " 1950,\n",
       " 1951,\n",
       " 1952,\n",
       " 1953,\n",
       " 1954,\n",
       " 1955,\n",
       " 1956,\n",
       " 1957,\n",
       " 1958,\n",
       " 1959,\n",
       " 1960,\n",
       " 1961,\n",
       " 1962,\n",
       " 1963,\n",
       " 1964,\n",
       " 1965,\n",
       " 1966,\n",
       " 1967,\n",
       " 1968,\n",
       " 1969,\n",
       " 1970,\n",
       " 1971,\n",
       " 1972,\n",
       " 1973,\n",
       " 1974,\n",
       " 1975,\n",
       " 1976,\n",
       " 1977,\n",
       " 1978,\n",
       " 1979,\n",
       " 1980,\n",
       " 1981,\n",
       " 1982,\n",
       " 1983,\n",
       " 1984,\n",
       " 1985,\n",
       " 1986,\n",
       " 1987,\n",
       " 1988,\n",
       " 1989,\n",
       " 1990,\n",
       " 1991,\n",
       " 1992,\n",
       " 1993,\n",
       " 1994,\n",
       " 1995,\n",
       " 1996,\n",
       " 1997,\n",
       " 1998,\n",
       " 1999,\n",
       " 2000,\n",
       " 2001,\n",
       " 2002,\n",
       " 2003,\n",
       " 2004,\n",
       " 2005,\n",
       " 2006,\n",
       " 2007,\n",
       " 2008,\n",
       " 2009,\n",
       " 2010,\n",
       " 2011,\n",
       " 2012,\n",
       " 2013,\n",
       " 2014,\n",
       " 2015,\n",
       " 2016,\n",
       " 2017,\n",
       " 2018,\n",
       " 2019,\n",
       " 2020,\n",
       " 2021,\n",
       " 2022]"
      ]
     },
     "metadata": {},
     "output_type": "display_data"
    }
   ],
   "source": [
    "display(anos)"
   ]
  },
  {
   "cell_type": "code",
   "execution_count": 66,
   "metadata": {},
   "outputs": [
    {
     "data": {
      "text/plain": [
       "<function matplotlib.pyplot.show(close=None, block=None)>"
      ]
     },
     "execution_count": 66,
     "metadata": {},
     "output_type": "execute_result"
    },
    {
     "data": {
      "image/png": "[encoded data removed]",
      "text/plain": [
       "<Figure size 1152x648 with 1 Axes>"
      ]
     },
     "metadata": {},
     "output_type": "display_data"
    }
   ],
   "source": [
    "#platando\n",
    "plt.figure(figsize=(16,9))\n",
    "plt.plot(anos,ratings)\n",
    "plt.title('\\nMediana das avaliações dos filmes em relação ao ano de estreia\\n')\n",
    "plt.xlabel('\\nAno')\n",
    "plt.ylabel('Mediana das avaliações')\n",
    "plt.show"
   ]
  },
  {
   "cell_type": "markdown",
   "metadata": {},
   "source": [
    "5 - Qual o número de filmes avaliados por genero em relação ao ano de estreia?\n",
    "listar o top 5"
   ]
  },
  {
   "cell_type": "code",
   "execution_count": 67,
   "metadata": {},
   "outputs": [
    {
     "data": {
      "text/html": [
       "<div>\n",
       "<style scoped>\n",
       "    .dataframe tbody tr th:only-of-type {\n",
       "        vertical-align: middle;\n",
       "    }\n",
       "\n",
       "    .dataframe tbody tr th {\n",
       "        vertical-align: top;\n",
       "    }\n",
       "\n",
       "    .dataframe thead th {\n",
       "        text-align: right;\n",
       "    }\n",
       "</style>\n",
       "<table border=\"1\" class=\"dataframe\">\n",
       "  <thead>\n",
       "    <tr style=\"text-align: right;\">\n",
       "      <th></th>\n",
       "      <th>genres</th>\n",
       "    </tr>\n",
       "  </thead>\n",
       "  <tbody>\n",
       "    <tr>\n",
       "      <th>0</th>\n",
       "      <td>Documentary,Short</td>\n",
       "    </tr>\n",
       "    <tr>\n",
       "      <th>1</th>\n",
       "      <td>Animation,Short</td>\n",
       "    </tr>\n",
       "    <tr>\n",
       "      <th>2</th>\n",
       "      <td>Animation,Comedy,Romance</td>\n",
       "    </tr>\n",
       "    <tr>\n",
       "      <th>3</th>\n",
       "      <td>Animation,Short</td>\n",
       "    </tr>\n",
       "    <tr>\n",
       "      <th>4</th>\n",
       "      <td>Comedy,Short</td>\n",
       "    </tr>\n",
       "    <tr>\n",
       "      <th>...</th>\n",
       "      <td>...</td>\n",
       "    </tr>\n",
       "    <tr>\n",
       "      <th>8976602</th>\n",
       "      <td>Action,Drama,Family</td>\n",
       "    </tr>\n",
       "    <tr>\n",
       "      <th>8976603</th>\n",
       "      <td>Action,Drama,Family</td>\n",
       "    </tr>\n",
       "    <tr>\n",
       "      <th>8976604</th>\n",
       "      <td>Action,Drama,Family</td>\n",
       "    </tr>\n",
       "    <tr>\n",
       "      <th>8976605</th>\n",
       "      <td>Short</td>\n",
       "    </tr>\n",
       "    <tr>\n",
       "      <th>8976606</th>\n",
       "      <td>Adventure,Animation,Comedy</td>\n",
       "    </tr>\n",
       "  </tbody>\n",
       "</table>\n",
       "<p>8976607 rows × 1 columns</p>\n",
       "</div>"
      ],
      "text/plain": [
       "                             genres\n",
       "0                 Documentary,Short\n",
       "1                   Animation,Short\n",
       "2          Animation,Comedy,Romance\n",
       "3                   Animation,Short\n",
       "4                      Comedy,Short\n",
       "...                             ...\n",
       "8976602         Action,Drama,Family\n",
       "8976603         Action,Drama,Family\n",
       "8976604         Action,Drama,Family\n",
       "8976605                       Short\n",
       "8976606  Adventure,Animation,Comedy\n",
       "\n",
       "[8976607 rows x 1 columns]"
      ]
     },
     "metadata": {},
     "output_type": "display_data"
    }
   ],
   "source": [
    "#criando a consulta\n",
    "consulta5 = '''\n",
    "SELECT genres FROM titles'''\n",
    "\n",
    "resultado5 = pd.read_sql_query(consulta5,conn)\n",
    "\n",
    "display(resultado5)"
   ]
  },
  {
   "cell_type": "code",
   "execution_count": 68,
   "metadata": {},
   "outputs": [],
   "source": [
    "#usando a função criada para filtrar o nome generos com nomes unicos a partir de REGEX\n",
    "generos_unicos = retorna_generos(resultado5)"
   ]
  },
  {
   "cell_type": "code",
   "execution_count": 69,
   "metadata": {},
   "outputs": [],
   "source": [
    "#realizando a contagem\n",
    "\n",
    "genero_count = []\n",
    "\n",
    "for item in generos_unicos:\n",
    "    consulta = 'SELECT COUNT(*) AS COUNT FROM titles WHERE genres LIKE '+ '\\''+'%'+item+'%'+'\\' AND type =\\'movie\\' AND premiered <= 2022'\n",
    "    resultado = pd.read_sql_query(consulta, conn)\n",
    "    genero_count.append(resultado['COUNT'].values[0])"
   ]
  },
  {
   "cell_type": "code",
   "execution_count": 70,
   "metadata": {},
   "outputs": [],
   "source": [
    "#preparando o data frame\n",
    "df_genero_count = pd.DataFrame()\n",
    "df_genero_count['genres'] = generos_unicos\n",
    "df_genero_count['count'] = genero_count"
   ]
  },
  {
   "cell_type": "code",
   "execution_count": 71,
   "metadata": {},
   "outputs": [
    {
     "data": {
      "text/plain": [
       "array(['drama', 'documentary', 'comedy', 'action', 'romance'],\n",
       "      dtype=object)"
      ]
     },
     "metadata": {},
     "output_type": "display_data"
    }
   ],
   "source": [
    "#calculando o top 5\n",
    "df_genero_count = df_genero_count[df_genero_count['genres']!='n']\n",
    "df_genero_count = df_genero_count.sort_values(by='count', ascending= False)\n",
    "top5_generos = df_genero_count.head()['genres'].values\n",
    "display(top5_generos)"
   ]
  },
  {
   "cell_type": "code",
   "execution_count": 72,
   "metadata": {},
   "outputs": [
    {
     "data": {
      "image/png": "[encoded data removed]",
      "text/plain": [
       "<Figure size 1152x576 with 1 Axes>"
      ]
     },
     "metadata": {},
     "output_type": "display_data"
    }
   ],
   "source": [
    "#plotando o grafico\n",
    "# Plot\n",
    "\n",
    "# Figura\n",
    "plt.figure(figsize = (16,8))\n",
    "\n",
    "# Loop e Plot\n",
    "for item in top5_generos:\n",
    "    consulta = 'SELECT COUNT(*) Number_of_movies, premiered Year FROM  titles  WHERE genres LIKE '+ '\\''+'%'+item+'%'+'\\' AND type=\\'movie\\' AND Year <=2022 GROUP BY Year'\n",
    "    resultado = pd.read_sql_query(consulta, conn)\n",
    "    plt.plot(resultado['Year'], resultado['Number_of_movies'])\n",
    "\n",
    "plt.xlabel('\\nAno')\n",
    "plt.ylabel('Número de Filmes Avaliados')\n",
    "plt.title('\\nNúmero de Filmes Avaliados Por Gênero Em Relação ao Ano de Estréia\\n')\n",
    "plt.legend(labels = top5_generos)\n",
    "plt.show()"
   ]
  },
  {
   "cell_type": "markdown",
   "metadata": {},
   "source": [
    "6 - Qual o filme com maior tempo de duração? Calcular os percentis.\n",
    "Percentil é uma medida utilizada para dividir uma amostra de valores, ordenados de forma crescente, em cem partes.\n",
    "Resumindo, pega-se a amostra e dividi-se em 100 partes iguais (após os ddaos estarem em ordem crescente), estas são correspondentes as porcentagens do maior valor  da amostra,\n",
    "logo, a primeira parte (primeiro percentil) representa 1% do todo, e assim por diante.\n",
    "Percentis notáveis: O 25º percentil é o primeiro quartil; o 50º percentil é a mediana. De igual forma, o 10º percentil é o primeiro decil e o 80º percentil é o oitavo decil."
   ]
  },
  {
   "cell_type": "code",
   "execution_count": 73,
   "metadata": {},
   "outputs": [],
   "source": [
    "#consulta sql que retorna o tempo de duração de cada filme, a menos qu enão tenha este dado\n",
    "consulta6 = '''\n",
    "SELECT runtime_minutes AS Runtime FROM titles WHERE type = 'movie' AND Runtime != 'NaN'\n",
    "'''"
   ]
  },
  {
   "cell_type": "code",
   "execution_count": 74,
   "metadata": {},
   "outputs": [
    {
     "data": {
      "text/html": [
       "<div>\n",
       "<style scoped>\n",
       "    .dataframe tbody tr th:only-of-type {\n",
       "        vertical-align: middle;\n",
       "    }\n",
       "\n",
       "    .dataframe tbody tr th {\n",
       "        vertical-align: top;\n",
       "    }\n",
       "\n",
       "    .dataframe thead th {\n",
       "        text-align: right;\n",
       "    }\n",
       "</style>\n",
       "<table border=\"1\" class=\"dataframe\">\n",
       "  <thead>\n",
       "    <tr style=\"text-align: right;\">\n",
       "      <th></th>\n",
       "      <th>Runtime</th>\n",
       "    </tr>\n",
       "  </thead>\n",
       "  <tbody>\n",
       "    <tr>\n",
       "      <th>0</th>\n",
       "      <td>100</td>\n",
       "    </tr>\n",
       "    <tr>\n",
       "      <th>1</th>\n",
       "      <td>70</td>\n",
       "    </tr>\n",
       "    <tr>\n",
       "      <th>2</th>\n",
       "      <td>90</td>\n",
       "    </tr>\n",
       "    <tr>\n",
       "      <th>3</th>\n",
       "      <td>120</td>\n",
       "    </tr>\n",
       "    <tr>\n",
       "      <th>4</th>\n",
       "      <td>58</td>\n",
       "    </tr>\n",
       "    <tr>\n",
       "      <th>...</th>\n",
       "      <td>...</td>\n",
       "    </tr>\n",
       "    <tr>\n",
       "      <th>385584</th>\n",
       "      <td>123</td>\n",
       "    </tr>\n",
       "    <tr>\n",
       "      <th>385585</th>\n",
       "      <td>57</td>\n",
       "    </tr>\n",
       "    <tr>\n",
       "      <th>385586</th>\n",
       "      <td>100</td>\n",
       "    </tr>\n",
       "    <tr>\n",
       "      <th>385587</th>\n",
       "      <td>116</td>\n",
       "    </tr>\n",
       "    <tr>\n",
       "      <th>385588</th>\n",
       "      <td>49</td>\n",
       "    </tr>\n",
       "  </tbody>\n",
       "</table>\n",
       "<p>385589 rows × 1 columns</p>\n",
       "</div>"
      ],
      "text/plain": [
       "        Runtime\n",
       "0           100\n",
       "1            70\n",
       "2            90\n",
       "3           120\n",
       "4            58\n",
       "...         ...\n",
       "385584      123\n",
       "385585       57\n",
       "385586      100\n",
       "385587      116\n",
       "385588       49\n",
       "\n",
       "[385589 rows x 1 columns]"
      ]
     },
     "metadata": {},
     "output_type": "display_data"
    }
   ],
   "source": [
    "#resultado\n",
    "resultado6 = pd.read_sql_query(consulta6, conn);\n",
    "display(resultado6)"
   ]
  },
  {
   "cell_type": "code",
   "execution_count": 82,
   "metadata": {},
   "outputs": [
    {
     "data": {
      "text/html": [
       "<div>\n",
       "<style scoped>\n",
       "    .dataframe tbody tr th:only-of-type {\n",
       "        vertical-align: middle;\n",
       "    }\n",
       "\n",
       "    .dataframe tbody tr th {\n",
       "        vertical-align: top;\n",
       "    }\n",
       "\n",
       "    .dataframe thead th {\n",
       "        text-align: right;\n",
       "    }\n",
       "</style>\n",
       "<table border=\"1\" class=\"dataframe\">\n",
       "  <thead>\n",
       "    <tr style=\"text-align: right;\">\n",
       "      <th></th>\n",
       "      <th>Runtime</th>\n",
       "      <th>primary_title</th>\n",
       "    </tr>\n",
       "  </thead>\n",
       "  <tbody>\n",
       "    <tr>\n",
       "      <th>0</th>\n",
       "      <td>51420</td>\n",
       "      <td>Logistics</td>\n",
       "    </tr>\n",
       "  </tbody>\n",
       "</table>\n",
       "</div>"
      ],
      "text/plain": [
       "   Runtime primary_title\n",
       "0    51420     Logistics"
      ]
     },
     "metadata": {},
     "output_type": "display_data"
    }
   ],
   "source": [
    "consulta6max = '''\n",
    "SELECT MAX(runtime_minutes) AS Runtime, primary_title FROM titles WHERE type = 'movie'\n",
    "'''\n",
    "resultado6max = pd.read_sql_query(consulta6max,conn)\n",
    "display(resultado6max)"
   ]
  },
  {
   "cell_type": "code",
   "execution_count": 79,
   "metadata": {},
   "outputs": [
    {
     "name": "stdout",
     "output_type": "stream",
     "text": [
      "0 percentil de duração (runtime) é: 1.0\n",
      "1 percentil de duração (runtime) é: 45.0\n",
      "2 percentil de duração (runtime) é: 47.0\n",
      "3 percentil de duração (runtime) é: 50.0\n",
      "4 percentil de duração (runtime) é: 50.0\n",
      "5 percentil de duração (runtime) é: 51.0\n",
      "6 percentil de duração (runtime) é: 52.0\n",
      "7 percentil de duração (runtime) é: 53.0\n",
      "8 percentil de duração (runtime) é: 55.0\n",
      "9 percentil de duração (runtime) é: 56.0\n",
      "10 percentil de duração (runtime) é: 57.0\n",
      "11 percentil de duração (runtime) é: 59.0\n",
      "12 percentil de duração (runtime) é: 60.0\n",
      "13 percentil de duração (runtime) é: 60.0\n",
      "14 percentil de duração (runtime) é: 60.0\n",
      "15 percentil de duração (runtime) é: 61.0\n",
      "16 percentil de duração (runtime) é: 63.0\n",
      "17 percentil de duração (runtime) é: 64.0\n",
      "18 percentil de duração (runtime) é: 65.0\n",
      "19 percentil de duração (runtime) é: 67.0\n",
      "20 percentil de duração (runtime) é: 69.0\n",
      "21 percentil de duração (runtime) é: 70.0\n",
      "22 percentil de duração (runtime) é: 70.0\n",
      "23 percentil de duração (runtime) é: 72.0\n",
      "24 percentil de duração (runtime) é: 72.0\n",
      "25 percentil de duração (runtime) é: 73.0\n",
      "26 percentil de duração (runtime) é: 75.0\n",
      "27 percentil de duração (runtime) é: 75.0\n",
      "28 percentil de duração (runtime) é: 76.0\n",
      "29 percentil de duração (runtime) é: 77.0\n",
      "30 percentil de duração (runtime) é: 78.0\n",
      "31 percentil de duração (runtime) é: 78.0\n",
      "32 percentil de duração (runtime) é: 80.0\n",
      "33 percentil de duração (runtime) é: 80.0\n",
      "34 percentil de duração (runtime) é: 80.0\n",
      "35 percentil de duração (runtime) é: 81.0\n",
      "36 percentil de duração (runtime) é: 81.0\n",
      "37 percentil de duração (runtime) é: 82.0\n",
      "38 percentil de duração (runtime) é: 83.0\n",
      "39 percentil de duração (runtime) é: 83.0\n",
      "40 percentil de duração (runtime) é: 84.0\n",
      "41 percentil de duração (runtime) é: 85.0\n",
      "42 percentil de duração (runtime) é: 85.0\n",
      "43 percentil de duração (runtime) é: 85.0\n",
      "44 percentil de duração (runtime) é: 86.0\n",
      "45 percentil de duração (runtime) é: 86.0\n",
      "46 percentil de duração (runtime) é: 87.0\n",
      "47 percentil de duração (runtime) é: 87.0\n",
      "48 percentil de duração (runtime) é: 88.0\n",
      "49 percentil de duração (runtime) é: 88.0\n",
      "50 percentil de duração (runtime) é: 89.0\n",
      "51 percentil de duração (runtime) é: 90.0\n",
      "52 percentil de duração (runtime) é: 90.0\n",
      "53 percentil de duração (runtime) é: 90.0\n",
      "54 percentil de duração (runtime) é: 90.0\n",
      "55 percentil de duração (runtime) é: 90.0\n",
      "56 percentil de duração (runtime) é: 90.0\n",
      "57 percentil de duração (runtime) é: 90.0\n",
      "58 percentil de duração (runtime) é: 91.0\n",
      "59 percentil de duração (runtime) é: 91.0\n",
      "60 percentil de duração (runtime) é: 92.0\n",
      "61 percentil de duração (runtime) é: 92.0\n",
      "62 percentil de duração (runtime) é: 93.0\n",
      "63 percentil de duração (runtime) é: 93.0\n",
      "64 percentil de duração (runtime) é: 94.0\n",
      "65 percentil de duração (runtime) é: 94.0\n",
      "66 percentil de duração (runtime) é: 95.0\n",
      "67 percentil de duração (runtime) é: 95.0\n",
      "68 percentil de duração (runtime) é: 96.0\n",
      "69 percentil de duração (runtime) é: 96.0\n",
      "70 percentil de duração (runtime) é: 97.0\n",
      "71 percentil de duração (runtime) é: 98.0\n",
      "72 percentil de duração (runtime) é: 98.0\n",
      "73 percentil de duração (runtime) é: 99.0\n",
      "74 percentil de duração (runtime) é: 100.0\n",
      "75 percentil de duração (runtime) é: 100.0\n",
      "76 percentil de duração (runtime) é: 100.0\n",
      "77 percentil de duração (runtime) é: 101.0\n",
      "78 percentil de duração (runtime) é: 102.0\n",
      "79 percentil de duração (runtime) é: 103.0\n",
      "80 percentil de duração (runtime) é: 104.0\n",
      "81 percentil de duração (runtime) é: 105.0\n",
      "82 percentil de duração (runtime) é: 106.0\n",
      "83 percentil de duração (runtime) é: 107.0\n",
      "84 percentil de duração (runtime) é: 108.0\n",
      "85 percentil de duração (runtime) é: 110.0\n",
      "86 percentil de duração (runtime) é: 111.0\n",
      "87 percentil de duração (runtime) é: 112.0\n",
      "88 percentil de duração (runtime) é: 115.0\n",
      "89 percentil de duração (runtime) é: 117.0\n",
      "90 percentil de duração (runtime) é: 119.0\n",
      "91 percentil de duração (runtime) é: 120.0\n",
      "92 percentil de duração (runtime) é: 123.0\n",
      "93 percentil de duração (runtime) é: 126.0\n",
      "94 percentil de duração (runtime) é: 130.0\n",
      "95 percentil de duração (runtime) é: 135.0\n",
      "96 percentil de duração (runtime) é: 139.0\n",
      "97 percentil de duração (runtime) é: 145.0\n",
      "98 percentil de duração (runtime) é: 153.0\n",
      "99 percentil de duração (runtime) é: 168.0\n",
      "100 percentil de duração (runtime) é: 51420.0\n"
     ]
    }
   ],
   "source": [
    "#calcular os percentis \n",
    "for i in range(101):\n",
    "    val = i;\n",
    "    perc = round(np.percentile(resultado6['Runtime'].values,val),2);\n",
    "    print('{} percentil de duração (runtime) é: {}'.format(val,perc))"
   ]
  },
  {
   "cell_type": "markdown",
   "metadata": {},
   "source": [
    "7 - Qual a relação entre duração e gênero?"
   ]
  },
  {
   "cell_type": "code",
   "execution_count": 83,
   "metadata": {},
   "outputs": [
    {
     "data": {
      "text/html": [
       "<div>\n",
       "<style scoped>\n",
       "    .dataframe tbody tr th:only-of-type {\n",
       "        vertical-align: middle;\n",
       "    }\n",
       "\n",
       "    .dataframe tbody tr th {\n",
       "        vertical-align: top;\n",
       "    }\n",
       "\n",
       "    .dataframe thead th {\n",
       "        text-align: right;\n",
       "    }\n",
       "</style>\n",
       "<table border=\"1\" class=\"dataframe\">\n",
       "  <thead>\n",
       "    <tr style=\"text-align: right;\">\n",
       "      <th></th>\n",
       "      <th>genres</th>\n",
       "      <th>AVG_RUNTIME</th>\n",
       "    </tr>\n",
       "  </thead>\n",
       "  <tbody>\n",
       "    <tr>\n",
       "      <th>0</th>\n",
       "      <td>Action</td>\n",
       "      <td>99.382558</td>\n",
       "    </tr>\n",
       "    <tr>\n",
       "      <th>1</th>\n",
       "      <td>Action,Adult</td>\n",
       "      <td>77.000000</td>\n",
       "    </tr>\n",
       "    <tr>\n",
       "      <th>2</th>\n",
       "      <td>Action,Adult,Adventure</td>\n",
       "      <td>69.000000</td>\n",
       "    </tr>\n",
       "    <tr>\n",
       "      <th>3</th>\n",
       "      <td>Action,Adult,Comedy</td>\n",
       "      <td>74.000000</td>\n",
       "    </tr>\n",
       "    <tr>\n",
       "      <th>4</th>\n",
       "      <td>Action,Adult,Crime</td>\n",
       "      <td>84.666667</td>\n",
       "    </tr>\n",
       "    <tr>\n",
       "      <th>...</th>\n",
       "      <td>...</td>\n",
       "      <td>...</td>\n",
       "    </tr>\n",
       "    <tr>\n",
       "      <th>1372</th>\n",
       "      <td>Thriller,Western</td>\n",
       "      <td>93.928571</td>\n",
       "    </tr>\n",
       "    <tr>\n",
       "      <th>1373</th>\n",
       "      <td>War</td>\n",
       "      <td>93.990099</td>\n",
       "    </tr>\n",
       "    <tr>\n",
       "      <th>1374</th>\n",
       "      <td>War,Western</td>\n",
       "      <td>90.000000</td>\n",
       "    </tr>\n",
       "    <tr>\n",
       "      <th>1375</th>\n",
       "      <td>Western</td>\n",
       "      <td>70.138454</td>\n",
       "    </tr>\n",
       "    <tr>\n",
       "      <th>1376</th>\n",
       "      <td>\\N</td>\n",
       "      <td>82.386876</td>\n",
       "    </tr>\n",
       "  </tbody>\n",
       "</table>\n",
       "<p>1377 rows × 2 columns</p>\n",
       "</div>"
      ],
      "text/plain": [
       "                      genres  AVG_RUNTIME\n",
       "0                     Action    99.382558\n",
       "1               Action,Adult    77.000000\n",
       "2     Action,Adult,Adventure    69.000000\n",
       "3        Action,Adult,Comedy    74.000000\n",
       "4         Action,Adult,Crime    84.666667\n",
       "...                      ...          ...\n",
       "1372        Thriller,Western    93.928571\n",
       "1373                     War    93.990099\n",
       "1374             War,Western    90.000000\n",
       "1375                 Western    70.138454\n",
       "1376                      \\N    82.386876\n",
       "\n",
       "[1377 rows x 2 columns]"
      ]
     },
     "metadata": {},
     "output_type": "display_data"
    }
   ],
   "source": [
    "#consulta sql que retorna a média de duração de acordo com a coluna de generos do IMDB\n",
    "consulta7 = '''\n",
    "SELECT genres,AVG(runtime_minutes) AS AVG_RUNTIME FROM titles \n",
    "WHERE type = 'movie' AND runtime_minutes != 'NaN' \n",
    "GROUP BY genres\n",
    "'''\n",
    "resultado7 = pd.read_sql_query(consulta7,conn)\n",
    "display(resultado7)"
   ]
  },
  {
   "cell_type": "code",
   "execution_count": 84,
   "metadata": {},
   "outputs": [],
   "source": [
    "#agora calculando o média por cada genero distinto\n",
    "genero_unico = retorna_generos(resultado7)"
   ]
  },
  {
   "cell_type": "code",
   "execution_count": 100,
   "metadata": {},
   "outputs": [],
   "source": [
    "genero_runtime = []\n",
    "for item in genero_unico:\n",
    "    consulta = 'SELECT runtime_minutes AS Runtime FROM  titles  WHERE genres LIKE '+ '\\''+'%'+item+'%'+'\\' AND type=\\'movie\\' AND Runtime != \\'NaN\\''\n",
    "    resultado = pd.read_sql_query(consulta, conn)\n",
    "    genero_runtime.append(round(np.mean(resultado['Runtime'])))"
   ]
  },
  {
   "cell_type": "code",
   "execution_count": 101,
   "metadata": {},
   "outputs": [
    {
     "data": {
      "text/plain": [
       "[101,\n",
       " 80,\n",
       " 93,\n",
       " 82,\n",
       " 88,\n",
       " 93,\n",
       " 95,\n",
       " 78,\n",
       " 96,\n",
       " 91,\n",
       " 93,\n",
       " 83,\n",
       " 63,\n",
       " 94,\n",
       " 88,\n",
       " 93,\n",
       " 99,\n",
       " 94,\n",
       " 75,\n",
       " 87,\n",
       " 98,\n",
       " 91,\n",
       " 21,\n",
       " 89,\n",
       " 84,\n",
       " 96,\n",
       " 95,\n",
       " 77]"
      ]
     },
     "execution_count": 101,
     "metadata": {},
     "output_type": "execute_result"
    }
   ],
   "source": [
    "genero_runtime"
   ]
  },
  {
   "cell_type": "code",
   "execution_count": 102,
   "metadata": {},
   "outputs": [],
   "source": [
    "#prepara o dataframe\n",
    "df_genero_runtime = pd.DataFrame()\n",
    "df_genero_runtime['genre'] = genero_unico\n",
    "df_genero_runtime['runtimeAVG'] = genero_runtime"
   ]
  },
  {
   "cell_type": "code",
   "execution_count": 103,
   "metadata": {},
   "outputs": [],
   "source": [
    "#tirando o indice 18 (news)\n",
    "df_genero_runtime = df_genero_runtime.drop(index=18)"
   ]
  },
  {
   "cell_type": "code",
   "execution_count": 104,
   "metadata": {},
   "outputs": [],
   "source": [
    "#ordenando os dados em ordem decrescente\n",
    "df_genero_runtime = df_genero_runtime.sort_values(by='runtimeAVG', ascending= False)"
   ]
  },
  {
   "cell_type": "code",
   "execution_count": 108,
   "metadata": {},
   "outputs": [
    {
     "data": {
      "image/png": "[encoded data removed]",
      "text/plain": [
       "<Figure size 1152x648 with 1 Axes>"
      ]
     },
     "metadata": {},
     "output_type": "display_data"
    }
   ],
   "source": [
    "#plot\n",
    "\n",
    "#tamanho da figura\n",
    "plt.figure(figsize=(16,9))\n",
    "\n",
    "#barplot\n",
    "sns.barplot(y=df_genero_runtime.genre, x=df_genero_runtime.runtimeAVG, orient='h')\n",
    "\n",
    "#loop\n",
    "for i in range(len(df_genero_runtime.index)):\n",
    "    plt.text(df_genero_runtime.runtimeAVG[df_genero_runtime.index[i]],\n",
    "             i+0.25,round(df_genero_runtime['runtimeAVG'][df_genero_runtime.index[i]],2))\n",
    "\n",
    "plt.xlabel('Gênero')\n",
    "plt.ylabel('\\nMédia de duração por gênero\\n')\n",
    "plt.title('\\nRelação entre gênero e duração\\n')\n",
    "plt.show()"
   ]
  }
 ],
 "metadata": {
  "interpreter": {
   "hash": "86ced299d573a58fc1d464bd2f917835a691b9d9cefee14c59fce60008360703"
  },
  "kernelspec": {
   "display_name": "Python 3.9.7 ('base')",
   "language": "python",
   "name": "python3"
  },
  "language_info": {
   "codemirror_mode": {
    "name": "ipython",
    "version": 3
   },
   "file_extension": ".py",
   "mimetype": "text/x-python",
   "name": "python",
   "nbconvert_exporter": "python",
   "pygments_lexer": "ipython3",
   "version": "3.9.7"
  },
  "orig_nbformat": 4
 },
 "nbformat": 4,
 "nbformat_minor": 2
}
